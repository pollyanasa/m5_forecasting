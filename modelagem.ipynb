{
  "cells": [
    {
      "cell_type": "markdown",
      "id": "64f660f8-b868-47b2-a62c-518938c186f8",
      "metadata": {
        "id": "64f660f8-b868-47b2-a62c-518938c186f8"
      },
      "source": [
        "# Modelagem M5 forecasting"
      ]
    },
    {
      "cell_type": "code",
      "execution_count": 2,
      "id": "kt-ixRrEfKmQ",
      "metadata": {
        "id": "kt-ixRrEfKmQ",
        "colab": {
          "base_uri": "https://localhost:8080/"
        },
        "outputId": "bfba0680-b530-48a2-99dd-c394c12f9bae"
      },
      "outputs": [
        {
          "output_type": "stream",
          "name": "stdout",
          "text": [
            "Mounted at /content/drive\n"
          ]
        }
      ],
      "source": [
        "from google.colab import drive\n",
        "drive.mount('/content/drive')"
      ]
    },
    {
      "cell_type": "code",
      "execution_count": 3,
      "id": "e36e2fea-07a7-4264-bbd1-6498a3e0fbde",
      "metadata": {
        "id": "e36e2fea-07a7-4264-bbd1-6498a3e0fbde"
      },
      "outputs": [],
      "source": [
        "import pandas as pd\n",
        "import numpy as np\n",
        "from sklearn.preprocessing import LabelEncoder\n",
        "from sklearn.model_selection import RandomizedSearchCV\n",
        "from sklearn.metrics import make_scorer, mean_squared_error\n",
        "from sklearn.linear_model import LinearRegression\n",
        "import matplotlib.pyplot as plt\n",
        "import lightgbm as lgb\n",
        "from lightgbm import LGBMRegressor\n",
        "import xgboost as xgb\n",
        "from xgboost import XGBRegressor\n",
        "import joblib"
      ]
    },
    {
      "cell_type": "markdown",
      "id": "7d5354bb-4cc6-47dc-a9fc-4f3b0378bd05",
      "metadata": {
        "id": "7d5354bb-4cc6-47dc-a9fc-4f3b0378bd05"
      },
      "source": [
        "### Data"
      ]
    },
    {
      "cell_type": "code",
      "execution_count": 4,
      "id": "32e5fb1d-1e3f-46a6-a938-d37b6ec257b8",
      "metadata": {
        "id": "32e5fb1d-1e3f-46a6-a938-d37b6ec257b8",
        "colab": {
          "base_uri": "https://localhost:8080/"
        },
        "outputId": "a808db7d-4ba8-485a-a884-bfa4bbfecdd0"
      },
      "outputs": [
        {
          "output_type": "stream",
          "name": "stdout",
          "text": [
            "Formato do DataFrame: (58449330, 23)\n",
            "Colunas disponíveis: ['id', 'item_id', 'dept_id', 'cat_id', 'store_id', 'state_id', 'd', 'sales', 'date', 'weekday', 'wday', 'month', 'year', 'snap_CA', 'snap_TX', 'snap_WI', 'event_name', 'event_type', 'is_event', 'sell_price', 'day', 'week', 'quarter']\n"
          ]
        }
      ],
      "source": [
        "# Carregar o DataFrame exportado anteriormente\n",
        "df = pd.read_csv('/content/drive/MyDrive/dados_colab/final_df.csv', parse_dates=['date'])\n",
        "\n",
        "# Verificar o carregamento\n",
        "print(\"Formato do DataFrame:\", df.shape)\n",
        "print(\"Colunas disponíveis:\", df.columns.tolist())"
      ]
    },
    {
      "cell_type": "code",
      "execution_count": 5,
      "id": "002e39c6-c6d8-4045-8c74-0846d19b3304",
      "metadata": {
        "id": "002e39c6-c6d8-4045-8c74-0846d19b3304",
        "colab": {
          "base_uri": "https://localhost:8080/"
        },
        "outputId": "d3b42f1f-c9ab-45c1-9ac8-f477fa4b0532"
      },
      "outputs": [
        {
          "output_type": "stream",
          "name": "stdout",
          "text": [
            "<class 'pandas.core.frame.DataFrame'>\n",
            "RangeIndex: 58449330 entries, 0 to 58449329\n",
            "Data columns (total 23 columns):\n",
            " #   Column      Dtype         \n",
            "---  ------      -----         \n",
            " 0   id          object        \n",
            " 1   item_id     object        \n",
            " 2   dept_id     object        \n",
            " 3   cat_id      object        \n",
            " 4   store_id    object        \n",
            " 5   state_id    object        \n",
            " 6   d           object        \n",
            " 7   sales       int64         \n",
            " 8   date        datetime64[ns]\n",
            " 9   weekday     object        \n",
            " 10  wday        int64         \n",
            " 11  month       int64         \n",
            " 12  year        int64         \n",
            " 13  snap_CA     int64         \n",
            " 14  snap_TX     int64         \n",
            " 15  snap_WI     int64         \n",
            " 16  event_name  object        \n",
            " 17  event_type  object        \n",
            " 18  is_event    int64         \n",
            " 19  sell_price  float64       \n",
            " 20  day         int64         \n",
            " 21  week        int64         \n",
            " 22  quarter     int64         \n",
            "dtypes: datetime64[ns](1), float64(1), int64(11), object(10)\n",
            "memory usage: 10.0+ GB\n"
          ]
        }
      ],
      "source": [
        "df.info()"
      ]
    },
    {
      "cell_type": "markdown",
      "id": "135889ef-dc61-4642-8a11-9015415f8623",
      "metadata": {
        "id": "135889ef-dc61-4642-8a11-9015415f8623"
      },
      "source": [
        "## Feature Engineering"
      ]
    },
    {
      "cell_type": "markdown",
      "id": "b592ae56-9339-4e9c-aed0-69501f29a71e",
      "metadata": {
        "id": "b592ae56-9339-4e9c-aed0-69501f29a71e"
      },
      "source": [
        "### Criação da variável de promoção ativa (snap_active)\n",
        "\n",
        "#### Variáveis de promoção (snap_CA, snap_TX, snap_WI):\n",
        "\n",
        "#### Essas colunas indicam se houve benefício do programa SNAP em cada estado, em determinado dia.\n",
        "#### Decidi criar uma nova variável única snap_active, baseada no estado, que indica se houve SNAP ativo no dia para aquele estado."
      ]
    },
    {
      "cell_type": "code",
      "execution_count": 6,
      "id": "ca435943-adea-4667-9da3-7dc333905dfe",
      "metadata": {
        "id": "ca435943-adea-4667-9da3-7dc333905dfe"
      },
      "outputs": [],
      "source": [
        "# SNAP ativo dependendo do estado\n",
        "df['snap_active'] = df.apply(\n",
        "    lambda row: row['snap_CA'] if row['state_id'] == 'CA'\n",
        "    else row['snap_TX'] if row['state_id'] == 'TX'\n",
        "    else row['snap_WI'],\n",
        "    axis=1\n",
        ")\n",
        "\n",
        "# Remover colunas SNAP individuais por estado\n",
        "df.drop(columns=['snap_CA', 'snap_TX', 'snap_WI'], inplace=True)"
      ]
    },
    {
      "cell_type": "markdown",
      "id": "fa9f0836-ab2f-41d3-94a6-fc42cba39972",
      "metadata": {
        "id": "fa9f0836-ab2f-41d3-94a6-fc42cba39972"
      },
      "source": [
        "### Criação de variáveis de séries temporais\n",
        "\n",
        "#### Variáveis lag: O valor da venda de 7 dias atrás e 28 dias atrás entra como nova feature.\n",
        "#### Variáveis rolling: Calcula a média móvel e o desvio padrão das vendas nos 7 dias anteriores e 28 dias anteriores."
      ]
    },
    {
      "cell_type": "code",
      "execution_count": 7,
      "id": "d0082276-f7df-4b49-9de4-134e3ef5c971",
      "metadata": {
        "id": "d0082276-f7df-4b49-9de4-134e3ef5c971"
      },
      "outputs": [],
      "source": [
        "# Ordenar o DataFrame por produto e data\n",
        "df.sort_values(by=['id', 'date'], inplace=True)\n",
        "\n",
        "# Lags de vendas (última semana e último mês)\n",
        "df['lag_7'] = df.groupby('id')['sales'].shift(7)\n",
        "df['lag_28'] = df.groupby('id')['sales'].shift(28)\n",
        "\n",
        "# Médias móveis de vendas (com desvio padrão)\n",
        "df['rolling_mean_7'] = df.groupby('id')['sales'].shift(1).rolling(window=7).mean()\n",
        "df['rolling_std_7']  = df.groupby('id')['sales'].shift(1).rolling(window=7).std()\n",
        "\n",
        "df['rolling_mean_28'] = df.groupby('id')['sales'].shift(1).rolling(window=28).mean()\n",
        "df['rolling_std_28']  = df.groupby('id')['sales'].shift(1).rolling(window=28).std()"
      ]
    },
    {
      "cell_type": "markdown",
      "id": "3e3a2bef-68d6-4358-9684-ae0fc002113c",
      "metadata": {
        "id": "3e3a2bef-68d6-4358-9684-ae0fc002113c"
      },
      "source": [
        "## Tratar NAs"
      ]
    },
    {
      "cell_type": "code",
      "execution_count": 8,
      "id": "b6e49b11-eec9-4dd8-8250-dc95f34b85a8",
      "metadata": {
        "id": "b6e49b11-eec9-4dd8-8250-dc95f34b85a8",
        "colab": {
          "base_uri": "https://localhost:8080/"
        },
        "outputId": "df4dbb78-093a-4214-9358-e649fe1b85f0"
      },
      "outputs": [
        {
          "output_type": "stream",
          "name": "stdout",
          "text": [
            "\n",
            "Valores ausentes por coluna:\n",
            "id                        0\n",
            "item_id                   0\n",
            "dept_id                   0\n",
            "cat_id                    0\n",
            "store_id                  0\n",
            "state_id                  0\n",
            "d                         0\n",
            "sales                     0\n",
            "date                      0\n",
            "weekday                   0\n",
            "wday                      0\n",
            "month                     0\n",
            "year                      0\n",
            "event_name         53631910\n",
            "event_type         53631910\n",
            "is_event                  0\n",
            "sell_price                0\n",
            "day                       0\n",
            "week                      0\n",
            "quarter                   0\n",
            "snap_active               0\n",
            "lag_7                213430\n",
            "lag_28               853720\n",
            "rolling_mean_7       213430\n",
            "rolling_std_7        213430\n",
            "rolling_mean_28      853720\n",
            "rolling_std_28       853720\n",
            "dtype: int64\n"
          ]
        }
      ],
      "source": [
        "# Verificar valores nulos\n",
        "print(\"\\nValores ausentes por coluna:\")\n",
        "print(df.isnull().sum())"
      ]
    },
    {
      "cell_type": "code",
      "execution_count": 9,
      "id": "B76QeMgAsh3e",
      "metadata": {
        "id": "B76QeMgAsh3e"
      },
      "outputs": [],
      "source": [
        "# Definir a condição: linhas onde 'is_event' é 0\n",
        "condicao = df['is_event'] == 0\n",
        "\n",
        "# Definir as colunas que você quer modificar\n",
        "colunas_para_imputar = ['event_name', 'event_type']\n",
        "\n",
        "# Usar .loc para selecionar as linhas e colunas específicas e preencher os NAs\n",
        "df.loc[condicao, colunas_para_imputar] = df.loc[condicao, colunas_para_imputar].fillna('None')"
      ]
    },
    {
      "cell_type": "code",
      "execution_count": 10,
      "id": "b06cee36-1b0d-4333-be2e-f7d83d3c5630",
      "metadata": {
        "id": "b06cee36-1b0d-4333-be2e-f7d83d3c5630"
      },
      "outputs": [],
      "source": [
        "# Lista das colunas com valores ausentes\n",
        "cols_na = ['lag_7', 'lag_28', 'rolling_mean_7', 'rolling_std_7',\n",
        "           'rolling_mean_28', 'rolling_std_28']\n",
        "\n",
        "# Imputar com a mediana por produto\n",
        "for col in cols_na:\n",
        "    df[col] = df.groupby('id')[col].transform(lambda x: x.fillna(x.median()))"
      ]
    },
    {
      "cell_type": "code",
      "execution_count": 11,
      "id": "ip4JUBn0u2hn",
      "metadata": {
        "id": "ip4JUBn0u2hn",
        "colab": {
          "base_uri": "https://localhost:8080/"
        },
        "outputId": "8db1f6bc-d948-44f4-be75-f3324f7a36ba"
      },
      "outputs": [
        {
          "output_type": "stream",
          "name": "stdout",
          "text": [
            "\n",
            "Valores ausentes por coluna:\n",
            "id                 0\n",
            "item_id            0\n",
            "dept_id            0\n",
            "cat_id             0\n",
            "store_id           0\n",
            "state_id           0\n",
            "d                  0\n",
            "sales              0\n",
            "date               0\n",
            "weekday            0\n",
            "wday               0\n",
            "month              0\n",
            "year               0\n",
            "event_name         0\n",
            "event_type         0\n",
            "is_event           0\n",
            "sell_price         0\n",
            "day                0\n",
            "week               0\n",
            "quarter            0\n",
            "snap_active        0\n",
            "lag_7              0\n",
            "lag_28             0\n",
            "rolling_mean_7     0\n",
            "rolling_std_7      0\n",
            "rolling_mean_28    0\n",
            "rolling_std_28     0\n",
            "dtype: int64\n"
          ]
        }
      ],
      "source": [
        "# Verificar valores nulos\n",
        "print(\"\\nValores ausentes por coluna:\")\n",
        "print(df.isnull().sum())"
      ]
    },
    {
      "cell_type": "markdown",
      "id": "69de89e5-6a4a-4ff0-bd99-5f63003cebd3",
      "metadata": {
        "id": "69de89e5-6a4a-4ff0-bd99-5f63003cebd3"
      },
      "source": [
        "## Codificar variáveis categóricas com LabelEncoder"
      ]
    },
    {
      "cell_type": "code",
      "execution_count": 12,
      "id": "fdf9c8bc-2099-4210-8a53-e191510702e7",
      "metadata": {
        "id": "fdf9c8bc-2099-4210-8a53-e191510702e7",
        "colab": {
          "base_uri": "https://localhost:8080/"
        },
        "outputId": "4de6b4ab-0523-48fb-891c-72862b57b0ab"
      },
      "outputs": [
        {
          "output_type": "stream",
          "name": "stdout",
          "text": [
            "<class 'pandas.core.frame.DataFrame'>\n",
            "RangeIndex: 58449330 entries, 0 to 58449329\n",
            "Data columns (total 27 columns):\n",
            " #   Column           Dtype         \n",
            "---  ------           -----         \n",
            " 0   id               object        \n",
            " 1   item_id          object        \n",
            " 2   dept_id          object        \n",
            " 3   cat_id           object        \n",
            " 4   store_id         object        \n",
            " 5   state_id         object        \n",
            " 6   d                object        \n",
            " 7   sales            int64         \n",
            " 8   date             datetime64[ns]\n",
            " 9   weekday          object        \n",
            " 10  wday             int64         \n",
            " 11  month            int64         \n",
            " 12  year             int64         \n",
            " 13  event_name       object        \n",
            " 14  event_type       object        \n",
            " 15  is_event         int64         \n",
            " 16  sell_price       float64       \n",
            " 17  day              int64         \n",
            " 18  week             int64         \n",
            " 19  quarter          int64         \n",
            " 20  snap_active      int64         \n",
            " 21  lag_7            float64       \n",
            " 22  lag_28           float64       \n",
            " 23  rolling_mean_7   float64       \n",
            " 24  rolling_std_7    float64       \n",
            " 25  rolling_mean_28  float64       \n",
            " 26  rolling_std_28   float64       \n",
            "dtypes: datetime64[ns](1), float64(7), int64(9), object(10)\n",
            "memory usage: 11.8+ GB\n"
          ]
        }
      ],
      "source": [
        "df.info()"
      ]
    },
    {
      "cell_type": "code",
      "execution_count": 13,
      "id": "832b8e89-73a4-423b-8656-f02c62867206",
      "metadata": {
        "id": "832b8e89-73a4-423b-8656-f02c62867206"
      },
      "outputs": [],
      "source": [
        "# Colunas categóricas tipo 'object' para codificar\n",
        "categorical_cols = ['item_id', 'dept_id', 'cat_id', 'store_id', 'state_id',\n",
        "                    'weekday', 'event_name', 'event_type', 'd']\n",
        "\n",
        "# Aplicar LabelEncoder em todas as colunas listadas\n",
        "for col in categorical_cols:\n",
        "    le = LabelEncoder()\n",
        "    df[col] = le.fit_transform(df[col])"
      ]
    },
    {
      "cell_type": "markdown",
      "id": "0ad0bbc0-d555-4bba-8d96-63af54440e13",
      "metadata": {
        "id": "0ad0bbc0-d555-4bba-8d96-63af54440e13"
      },
      "source": [
        "## Separação entre Treino/Teste\n",
        "#### em séries temporais não utilizamos 70/30 ou 80/20"
      ]
    },
    {
      "cell_type": "code",
      "execution_count": 14,
      "id": "EZLv_KCL3Zi5",
      "metadata": {
        "id": "EZLv_KCL3Zi5",
        "colab": {
          "base_uri": "https://localhost:8080/"
        },
        "outputId": "ebeea47b-a032-4d00-ec49-9595303ee19c"
      },
      "outputs": [
        {
          "output_type": "stream",
          "name": "stdout",
          "text": [
            "Tamanho do treino: (57595610, 21)\n",
            "Tamanho do teste: (853720, 21)\n"
          ]
        }
      ],
      "source": [
        "# Ordenar por data antes de cortar\n",
        "df = df.sort_values('date')\n",
        "\n",
        "# Definir as features e o target\n",
        "features = ['item_id', 'dept_id', 'cat_id', 'store_id', 'state_id', 'sell_price',\n",
        "            'event_name', 'event_type', 'snap_active', 'day', 'month', 'year',\n",
        "            'quarter', 'wday', 'is_event', 'lag_7', 'lag_28', 'rolling_mean_7',\n",
        "            'rolling_std_7', 'rolling_mean_28', 'rolling_std_28']\n",
        "target = 'sales'\n",
        "\n",
        "X = df[features]\n",
        "y = df[target]\n",
        "\n",
        "# Simples corte temporal para separar treino e teste (últimos 28 dias para teste)\n",
        "split_date = df['date'].max() - pd.Timedelta(days=28)\n",
        "train_idx = df['date'] <= split_date\n",
        "test_idx = df['date'] > split_date\n",
        "\n",
        "# Separar dados\n",
        "X_train, X_test = X[train_idx], X[test_idx]\n",
        "y_train, y_test = y[train_idx], y[test_idx]\n",
        "\n",
        "print(\"Tamanho do treino:\", X_train.shape)\n",
        "print(\"Tamanho do teste:\", X_test.shape)"
      ]
    },
    {
      "cell_type": "markdown",
      "id": "c688ad5b-2196-4873-bb88-1b1006efecd6",
      "metadata": {
        "id": "c688ad5b-2196-4873-bb88-1b1006efecd6"
      },
      "source": [
        "## Modelos"
      ]
    },
    {
      "cell_type": "markdown",
      "id": "911090d6-b9dc-46c7-aff9-34fb6e446be4",
      "metadata": {
        "id": "911090d6-b9dc-46c7-aff9-34fb6e446be4"
      },
      "source": [
        "### Linear Regression"
      ]
    },
    {
      "cell_type": "code",
      "execution_count": 15,
      "id": "8be18dcd-7660-42df-b67c-a41b81114285",
      "metadata": {
        "id": "8be18dcd-7660-42df-b67c-a41b81114285",
        "colab": {
          "base_uri": "https://localhost:8080/"
        },
        "outputId": "4769b32d-22b8-4b2c-e511-1004471270b7"
      },
      "outputs": [
        {
          "output_type": "stream",
          "name": "stdout",
          "text": [
            "[Linear Regression] RMSE: 2.0237\n"
          ]
        }
      ],
      "source": [
        "# Treinar modelo\n",
        "lr_model = LinearRegression()\n",
        "lr_model.fit(X_train, y_train)\n",
        "\n",
        "# Previsão\n",
        "y_pred_lr = lr_model.predict(X_test)\n",
        "\n",
        "# Avaliação\n",
        "# Cálculo manual do RMSE\n",
        "rmse_lr = np.sqrt(mean_squared_error(y_test, y_pred_lr))\n",
        "print(f\"[Linear Regression] RMSE: {rmse_lr:.4f}\")"
      ]
    },
    {
      "cell_type": "markdown",
      "id": "47374d83-441e-4992-91ed-27e2c136ee74",
      "metadata": {
        "id": "47374d83-441e-4992-91ed-27e2c136ee74"
      },
      "source": [
        "### LightGBM"
      ]
    },
    {
      "cell_type": "code",
      "execution_count": 16,
      "id": "12444920-c1a1-4f09-8a9c-051efa1b515d",
      "metadata": {
        "id": "12444920-c1a1-4f09-8a9c-051efa1b515d",
        "colab": {
          "base_uri": "https://localhost:8080/"
        },
        "outputId": "0e2211cb-08d7-4f4c-fa51-d19f826b0702"
      },
      "outputs": [
        {
          "output_type": "stream",
          "name": "stdout",
          "text": [
            "[LightGBM] [Info] This is the GPU trainer!!\n",
            "[LightGBM] [Info] Total Bins 1826\n",
            "[LightGBM] [Info] Number of data points in the train set: 57595610, number of used features: 21\n",
            "[LightGBM] [Info] Using GPU Device: NVIDIA A100-SXM4-80GB, Vendor: NVIDIA Corporation\n",
            "[LightGBM] [Info] Compiling OpenCL Kernel with 256 bins...\n",
            "[LightGBM] [Info] GPU programs have been built\n",
            "[LightGBM] [Info] Size of histogram bin entry: 8\n",
            "[LightGBM] [Info] 15 dense feature groups (878.84 MB) transferred to GPU in 0.975268 secs. 1 sparse feature groups\n",
            "[LightGBM] [Info] Start training from score 1.122663\n",
            "[LightGBM GPU] RMSE: 1.9358\n"
          ]
        }
      ],
      "source": [
        "lgb_model = LGBMRegressor(device='gpu', n_estimators=100, random_state=42)\n",
        "lgb_model.fit(X_train, y_train)\n",
        "\n",
        "\n",
        "y_pred_lgb = lgb_model.predict(X_test)\n",
        "rmse_lgb = np.sqrt(mean_squared_error(y_test, y_pred_lgb))\n",
        "print(f\"[LightGBM GPU] RMSE: {rmse_lgb:.4f}\")"
      ]
    },
    {
      "cell_type": "markdown",
      "id": "e1af024d-60bc-4573-a31f-dc79294fee7f",
      "metadata": {
        "id": "e1af024d-60bc-4573-a31f-dc79294fee7f"
      },
      "source": [
        "### XGBoost"
      ]
    },
    {
      "cell_type": "code",
      "execution_count": 17,
      "id": "x7lR94WuusS7",
      "metadata": {
        "id": "x7lR94WuusS7",
        "colab": {
          "base_uri": "https://localhost:8080/"
        },
        "outputId": "6d05212f-047c-4965-9839-66b95fafcc3a"
      },
      "outputs": [
        {
          "output_type": "stream",
          "name": "stderr",
          "text": [
            "/usr/local/lib/python3.12/dist-packages/xgboost/core.py:774: UserWarning: [23:49:34] WARNING: /workspace/src/common/error_msg.cc:41: Falling back to prediction using DMatrix due to mismatched devices. This might lead to higher memory usage and slower performance. XGBoost is running on: cuda:0, while the input data is on: cpu.\n",
            "Potential solutions:\n",
            "- Use a data structure that matches the device ordinal in the booster.\n",
            "- Set the device for booster before call to inplace_predict.\n",
            "\n",
            "This warning will only be shown once.\n",
            "\n",
            "  return func(**kwargs)\n"
          ]
        },
        {
          "output_type": "stream",
          "name": "stdout",
          "text": [
            "[XGBoost GPU] RMSE: 1.9524\n"
          ]
        }
      ],
      "source": [
        "xgb_model = XGBRegressor(\n",
        "    device='cuda',\n",
        "    n_estimators=100,\n",
        "    random_state=42\n",
        ")\n",
        "\n",
        "xgb_model.fit(X_train, y_train)\n",
        "\n",
        "# Previsão\n",
        "y_pred_xgb = xgb_model.predict(X_test)\n",
        "\n",
        "# Avaliação\n",
        "rmse_xgb = np.sqrt(mean_squared_error(y_test, y_pred_xgb))\n",
        "print(f\"[XGBoost GPU] RMSE: {rmse_xgb:.4f}\")"
      ]
    },
    {
      "cell_type": "markdown",
      "source": [
        "## LightGBM foi o melhor modelo"
      ],
      "metadata": {
        "id": "CoC3e1NNFK90"
      },
      "id": "CoC3e1NNFK90"
    },
    {
      "cell_type": "markdown",
      "source": [
        "### feature importance"
      ],
      "metadata": {
        "id": "EQxohA_7GMum"
      },
      "id": "EQxohA_7GMum"
    },
    {
      "cell_type": "code",
      "source": [
        "lgb.plot_importance(lgb_model, max_num_features=15)\n",
        "plt.title(\"Importância das variáveis\")\n",
        "plt.show()"
      ],
      "metadata": {
        "id": "sr6Vnj9VEZ5U",
        "colab": {
          "base_uri": "https://localhost:8080/",
          "height": 472
        },
        "outputId": "7384c90a-47c5-4d23-a4e2-bc44c875ad7c"
      },
      "id": "sr6Vnj9VEZ5U",
      "execution_count": 18,
      "outputs": [
        {
          "output_type": "display_data",
          "data": {
            "text/plain": [
              "<Figure size 640x480 with 1 Axes>"
            ],
            "image/png": "[encoded data removed]"
          },
          "metadata": {}
        }
      ]
    },
    {
      "cell_type": "markdown",
      "source": [
        "### tuning dos hiperparâmetros"
      ],
      "metadata": {
        "id": "zhxWdJ4mH7pV"
      },
      "id": "zhxWdJ4mH7pV"
    },
    {
      "cell_type": "code",
      "source": [
        "def rmse(y_true, y_pred):\n",
        "    return np.sqrt(mean_squared_error(y_true, y_pred))\n",
        "\n",
        "# --- amostra pra economizar RAM ---\n",
        "# (frac — 0.7 = 70% do dataset)\n",
        "X_train_small = X_train.sample(frac=0.7, random_state=42)\n",
        "y_train_small = y_train.loc[X_train_small.index]\n",
        "\n",
        "# --- Dataset para o LightGBM ---\n",
        "train_data = lgb.Dataset(X_train_small, label=y_train_small)\n",
        "valid_data = lgb.Dataset(X_test, label=y_test, reference=train_data)\n",
        "\n",
        "# --- parâmetros básicos ---\n",
        "params = {\n",
        "    'objective': 'regression',\n",
        "    'metric': 'rmse',\n",
        "    'learning_rate': 0.05,\n",
        "    'num_leaves': 31,\n",
        "    'max_depth': -1,\n",
        "    'subsample': 0.8,\n",
        "    'colsample_bytree': 0.8,\n",
        "    'reg_alpha': 0.1,\n",
        "    'reg_lambda': 0.1,\n",
        "    'device': 'gpu',\n",
        "    'gpu_use_dp': False,  # usa float32\n",
        "    'verbose': -1\n",
        "}\n",
        "\n",
        "# --- treino ---\n",
        "model = LGBMRegressor(\n",
        "    objective='regression',\n",
        "    metric='rmse',\n",
        "    learning_rate=0.03,     # taxa menor = mais precisão\n",
        "    num_leaves=63,          # mais folhas = mais complexidade (mas sem pesar muito)\n",
        "    max_depth=10,           # limite pra evitar overfitting\n",
        "    subsample=0.9,\n",
        "    colsample_bytree=0.9,\n",
        "    reg_alpha=0.05,\n",
        "    reg_lambda=0.05,\n",
        "    n_estimators=2000,      # mais iterações (com early stopping ele para antes)\n",
        "    device='gpu',\n",
        "    gpu_use_dp=False,\n",
        "    random_state=42\n",
        ")\n",
        "\n",
        "print(\"Treinando modelo LightGBM (GPU)...\")\n",
        "model.fit(\n",
        "    X_train_small, y_train_small,\n",
        "    eval_set=[(X_test, y_test)],\n",
        "    eval_metric='rmse',\n",
        "    callbacks=[lgb.early_stopping(stopping_rounds=100), lgb.log_evaluation(100)]\n",
        ")\n",
        "\n",
        "# --- predição e avaliação ---\n",
        "y_pred = model.predict(X_test)\n",
        "rmse_score = rmse(y_test, y_pred)\n",
        "print(f\"RMSE final: {rmse_score:.4f}\")"
      ],
      "metadata": {
        "id": "qvrve9MNI9YG",
        "colab": {
          "base_uri": "https://localhost:8080/"
        },
        "outputId": "410dbdb6-04ca-4616-cef2-aefae9cb2eeb"
      },
      "id": "qvrve9MNI9YG",
      "execution_count": 24,
      "outputs": [
        {
          "output_type": "stream",
          "name": "stdout",
          "text": [
            "Treinando modelo LightGBM (GPU)...\n",
            "[LightGBM] [Info] This is the GPU trainer!!\n",
            "[LightGBM] [Info] Total Bins 1825\n",
            "[LightGBM] [Info] Number of data points in the train set: 40316927, number of used features: 21\n",
            "[LightGBM] [Info] Using GPU Device: NVIDIA A100-SXM4-80GB, Vendor: NVIDIA Corporation\n",
            "[LightGBM] [Info] Compiling OpenCL Kernel with 256 bins...\n",
            "[LightGBM] [Info] GPU programs have been built\n",
            "[LightGBM] [Info] Size of histogram bin entry: 8\n",
            "[LightGBM] [Info] 15 dense feature groups (615.19 MB) transferred to GPU in 0.672935 secs. 1 sparse feature groups\n",
            "[LightGBM] [Info] Start training from score 1.123167\n",
            "Training until validation scores don't improve for 100 rounds\n",
            "[100]\tvalid_0's rmse: 1.95152\n",
            "[200]\tvalid_0's rmse: 1.93358\n",
            "[300]\tvalid_0's rmse: 1.92877\n",
            "[400]\tvalid_0's rmse: 1.92587\n",
            "[500]\tvalid_0's rmse: 1.92439\n",
            "[600]\tvalid_0's rmse: 1.92365\n",
            "[700]\tvalid_0's rmse: 1.92308\n",
            "[800]\tvalid_0's rmse: 1.92244\n",
            "[900]\tvalid_0's rmse: 1.92166\n",
            "[1000]\tvalid_0's rmse: 1.9216\n",
            "Early stopping, best iteration is:\n",
            "[989]\tvalid_0's rmse: 1.92122\n",
            "RMSE final: 1.9212\n"
          ]
        }
      ]
    },
    {
      "cell_type": "markdown",
      "source": [
        "## Salvar melhor modelo"
      ],
      "metadata": {
        "id": "5-q1nMCkMN43"
      },
      "id": "5-q1nMCkMN43"
    },
    {
      "cell_type": "code",
      "source": [
        "joblib.dump(model, 'lightgbm_gpu_tunado.pkl')"
      ],
      "metadata": {
        "id": "cCQ2KO3NL40W",
        "colab": {
          "base_uri": "https://localhost:8080/"
        },
        "outputId": "28874a0b-fb3e-454a-e953-eb1f3e1e3251"
      },
      "id": "cCQ2KO3NL40W",
      "execution_count": 25,
      "outputs": [
        {
          "output_type": "execute_result",
          "data": {
            "text/plain": [
              "['lightgbm_gpu_tunado.pkl']"
            ]
          },
          "metadata": {},
          "execution_count": 25
        }
      ]
    },
    {
      "cell_type": "code",
      "source": [],
      "metadata": {
        "id": "X576UobigI_u"
      },
      "id": "X576UobigI_u",
      "execution_count": null,
      "outputs": []
    }
  ],
  "metadata": {
    "accelerator": "GPU",
    "colab": {
      "gpuType": "A100",
      "machine_shape": "hm",
      "provenance": [],
      "collapsed_sections": [
        "7d5354bb-4cc6-47dc-a9fc-4f3b0378bd05",
        "135889ef-dc61-4642-8a11-9015415f8623",
        "3e3a2bef-68d6-4358-9684-ae0fc002113c",
        "69de89e5-6a4a-4ff0-bd99-5f63003cebd3"
      ]
    },
    "kernelspec": {
      "display_name": "Python 3",
      "name": "python3"
    },
    "language_info": {
      "name": "python"
    }
  },
  "nbformat": 4,
  "nbformat_minor": 5
}