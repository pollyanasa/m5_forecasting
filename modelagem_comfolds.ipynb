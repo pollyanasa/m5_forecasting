{
  "cells": [
    {
      "cell_type": "markdown",
      "id": "64f660f8-b868-47b2-a62c-518938c186f8",
      "metadata": {
        "id": "64f660f8-b868-47b2-a62c-518938c186f8"
      },
      "source": [
        "# Modelagem M5 forecasting"
      ]
    },
    {
      "cell_type": "code",
      "execution_count": 5,
      "id": "kt-ixRrEfKmQ",
      "metadata": {
        "id": "kt-ixRrEfKmQ",
        "colab": {
          "base_uri": "https://localhost:8080/"
        },
        "outputId": "67e729e7-5ed6-410a-808a-46c2375d13b1"
      },
      "outputs": [
        {
          "output_type": "stream",
          "name": "stdout",
          "text": [
            "Mounted at /content/drive\n"
          ]
        }
      ],
      "source": [
        "from google.colab import drive\n",
        "drive.mount('/content/drive', force_remount=True)"
      ]
    },
    {
      "cell_type": "markdown",
      "id": "ubW9kNrjU93w",
      "metadata": {
        "id": "ubW9kNrjU93w"
      },
      "source": [
        "### Bibliotecas"
      ]
    },
    {
      "cell_type": "code",
      "execution_count": 6,
      "id": "e36e2fea-07a7-4264-bbd1-6498a3e0fbde",
      "metadata": {
        "id": "e36e2fea-07a7-4264-bbd1-6498a3e0fbde"
      },
      "outputs": [],
      "source": [
        "import pandas as pd\n",
        "import numpy as np\n",
        "from sklearn.preprocessing import LabelEncoder\n",
        "from sklearn.model_selection import TimeSeriesSplit\n",
        "from sklearn.linear_model import LinearRegression\n",
        "from sklearn.metrics import mean_squared_error\n",
        "from sklearn.ensemble import RandomForestRegressor\n",
        "import lightgbm as lgb\n",
        "import optuna\n",
        "from lightgbm import early_stopping\n",
        "import xgboost as xgb\n",
        "import matplotlib.pyplot as plt\n",
        "import joblib"
      ]
    },
    {
      "cell_type": "markdown",
      "id": "7d5354bb-4cc6-47dc-a9fc-4f3b0378bd05",
      "metadata": {
        "id": "7d5354bb-4cc6-47dc-a9fc-4f3b0378bd05"
      },
      "source": [
        "### Data"
      ]
    },
    {
      "cell_type": "code",
      "execution_count": 7,
      "id": "32e5fb1d-1e3f-46a6-a938-d37b6ec257b8",
      "metadata": {
        "id": "32e5fb1d-1e3f-46a6-a938-d37b6ec257b8",
        "colab": {
          "base_uri": "https://localhost:8080/"
        },
        "outputId": "c8120485-7a45-42a9-9a19-bd2e8550ac91"
      },
      "outputs": [
        {
          "output_type": "stream",
          "name": "stdout",
          "text": [
            "Formato do DataFrame: (58449330, 23)\n",
            "Colunas disponíveis: ['id', 'item_id', 'dept_id', 'cat_id', 'store_id', 'state_id', 'd', 'sales', 'date', 'weekday', 'wday', 'month', 'year', 'snap_CA', 'snap_TX', 'snap_WI', 'event_name', 'event_type', 'is_event', 'sell_price', 'day', 'week', 'quarter']\n"
          ]
        }
      ],
      "source": [
        "# Caminho correto para a pasta dados_colab\n",
        "df = pd.read_csv('/content/drive/MyDrive/dados_colab/final_df.csv', parse_dates=['date'])\n",
        "\n",
        "# Verificar o carregamento\n",
        "print(\"Formato do DataFrame:\", df.shape)\n",
        "print(\"Colunas disponíveis:\", df.columns.tolist())"
      ]
    },
    {
      "cell_type": "code",
      "execution_count": 8,
      "id": "002e39c6-c6d8-4045-8c74-0846d19b3304",
      "metadata": {
        "id": "002e39c6-c6d8-4045-8c74-0846d19b3304",
        "colab": {
          "base_uri": "https://localhost:8080/"
        },
        "outputId": "f756858f-6a97-4688-a13a-741e41bbbabc"
      },
      "outputs": [
        {
          "output_type": "stream",
          "name": "stdout",
          "text": [
            "<class 'pandas.core.frame.DataFrame'>\n",
            "RangeIndex: 58449330 entries, 0 to 58449329\n",
            "Data columns (total 23 columns):\n",
            " #   Column      Dtype         \n",
            "---  ------      -----         \n",
            " 0   id          object        \n",
            " 1   item_id     object        \n",
            " 2   dept_id     object        \n",
            " 3   cat_id      object        \n",
            " 4   store_id    object        \n",
            " 5   state_id    object        \n",
            " 6   d           object        \n",
            " 7   sales       int64         \n",
            " 8   date        datetime64[ns]\n",
            " 9   weekday     object        \n",
            " 10  wday        int64         \n",
            " 11  month       int64         \n",
            " 12  year        int64         \n",
            " 13  snap_CA     int64         \n",
            " 14  snap_TX     int64         \n",
            " 15  snap_WI     int64         \n",
            " 16  event_name  object        \n",
            " 17  event_type  object        \n",
            " 18  is_event    int64         \n",
            " 19  sell_price  float64       \n",
            " 20  day         int64         \n",
            " 21  week        int64         \n",
            " 22  quarter     int64         \n",
            "dtypes: datetime64[ns](1), float64(1), int64(11), object(10)\n",
            "memory usage: 10.0+ GB\n"
          ]
        }
      ],
      "source": [
        "df.info()"
      ]
    },
    {
      "cell_type": "code",
      "execution_count": 9,
      "id": "98e6904d-055d-49a5-8b7e-80814ce5c73d",
      "metadata": {
        "id": "98e6904d-055d-49a5-8b7e-80814ce5c73d",
        "colab": {
          "base_uri": "https://localhost:8080/"
        },
        "outputId": "23798bd8-6434-4775-dd34-4a812c054fb0"
      },
      "outputs": [
        {
          "output_type": "stream",
          "name": "stdout",
          "text": [
            "\n",
            "Valores ausentes por coluna:\n",
            "id                   0\n",
            "item_id              0\n",
            "dept_id              0\n",
            "cat_id               0\n",
            "store_id             0\n",
            "state_id             0\n",
            "d                    0\n",
            "sales                0\n",
            "date                 0\n",
            "weekday              0\n",
            "wday                 0\n",
            "month                0\n",
            "year                 0\n",
            "snap_CA              0\n",
            "snap_TX              0\n",
            "snap_WI              0\n",
            "event_name    53631910\n",
            "event_type    53631910\n",
            "is_event             0\n",
            "sell_price           0\n",
            "day                  0\n",
            "week                 0\n",
            "quarter              0\n",
            "dtype: int64\n"
          ]
        }
      ],
      "source": [
        "# Verificar valores nulos\n",
        "print(\"\\nValores ausentes por coluna:\")\n",
        "print(df.isnull().sum())"
      ]
    },
    {
      "cell_type": "markdown",
      "id": "135889ef-dc61-4642-8a11-9015415f8623",
      "metadata": {
        "id": "135889ef-dc61-4642-8a11-9015415f8623"
      },
      "source": [
        "## Feature Engineering"
      ]
    },
    {
      "cell_type": "markdown",
      "id": "b592ae56-9339-4e9c-aed0-69501f29a71e",
      "metadata": {
        "id": "b592ae56-9339-4e9c-aed0-69501f29a71e"
      },
      "source": [
        "### Criação da variável de promoção ativa (snap_active)\n",
        "\n",
        "#### Variáveis de promoção (snap_CA, snap_TX, snap_WI):\n",
        "\n",
        "#### Essas colunas indicam se houve benefício do programa SNAP em cada estado, em determinado dia.\n",
        "#### Decidi criar uma nova variável única snap_active, baseada no estado, que indica se houve SNAP ativo no dia para aquele estado."
      ]
    },
    {
      "cell_type": "code",
      "execution_count": 10,
      "id": "ca435943-adea-4667-9da3-7dc333905dfe",
      "metadata": {
        "id": "ca435943-adea-4667-9da3-7dc333905dfe"
      },
      "outputs": [],
      "source": [
        "# SNAP ativo dependendo do estado\n",
        "df['snap_active'] = df.apply(\n",
        "    lambda row: row['snap_CA'] if row['state_id'] == 'CA'\n",
        "    else row['snap_TX'] if row['state_id'] == 'TX'\n",
        "    else row['snap_WI'],\n",
        "    axis=1\n",
        ")\n",
        "\n",
        "# Remover colunas SNAP individuais por estado\n",
        "df.drop(columns=['snap_CA', 'snap_TX', 'snap_WI'], inplace=True)"
      ]
    },
    {
      "cell_type": "markdown",
      "id": "fa9f0836-ab2f-41d3-94a6-fc42cba39972",
      "metadata": {
        "id": "fa9f0836-ab2f-41d3-94a6-fc42cba39972"
      },
      "source": [
        "### Criação de variáveis de séries temporais\n",
        "\n",
        "#### Variáveis lag: O valor da venda de 7 dias atrás e 28 dias atrás entra como nova feature.\n",
        "#### Variáveis rolling: Calcula a média móvel e o desvio padrão das vendas nos 7 dias anteriores e 28 dias anteriores."
      ]
    },
    {
      "cell_type": "code",
      "execution_count": 11,
      "id": "d0082276-f7df-4b49-9de4-134e3ef5c971",
      "metadata": {
        "id": "d0082276-f7df-4b49-9de4-134e3ef5c971"
      },
      "outputs": [],
      "source": [
        "# Ordenar o DataFrame por produto e data\n",
        "df.sort_values(by=['id', 'date'], inplace=True)\n",
        "\n",
        "# Lags de vendas (última semana e último mês)\n",
        "df['lag_7'] = df.groupby('id')['sales'].shift(7)\n",
        "df['lag_28'] = df.groupby('id')['sales'].shift(28)\n",
        "\n",
        "# Médias móveis de vendas (com desvio padrão)\n",
        "df['rolling_mean_7'] = df.groupby('id')['sales'].shift(1).rolling(window=7).mean()\n",
        "df['rolling_std_7']  = df.groupby('id')['sales'].shift(1).rolling(window=7).std()\n",
        "\n",
        "df['rolling_mean_28'] = df.groupby('id')['sales'].shift(1).rolling(window=28).mean()\n",
        "df['rolling_std_28']  = df.groupby('id')['sales'].shift(1).rolling(window=28).std()"
      ]
    },
    {
      "cell_type": "markdown",
      "id": "3e3a2bef-68d6-4358-9684-ae0fc002113c",
      "metadata": {
        "id": "3e3a2bef-68d6-4358-9684-ae0fc002113c"
      },
      "source": [
        "## Tratar NAs"
      ]
    },
    {
      "cell_type": "code",
      "execution_count": 12,
      "id": "b6e49b11-eec9-4dd8-8250-dc95f34b85a8",
      "metadata": {
        "id": "b6e49b11-eec9-4dd8-8250-dc95f34b85a8",
        "colab": {
          "base_uri": "https://localhost:8080/"
        },
        "outputId": "08e09d65-946b-4bbf-cc7f-fc22d4566c9f"
      },
      "outputs": [
        {
          "output_type": "stream",
          "name": "stdout",
          "text": [
            "\n",
            "Valores ausentes por coluna:\n",
            "id                        0\n",
            "item_id                   0\n",
            "dept_id                   0\n",
            "cat_id                    0\n",
            "store_id                  0\n",
            "state_id                  0\n",
            "d                         0\n",
            "sales                     0\n",
            "date                      0\n",
            "weekday                   0\n",
            "wday                      0\n",
            "month                     0\n",
            "year                      0\n",
            "event_name         53631910\n",
            "event_type         53631910\n",
            "is_event                  0\n",
            "sell_price                0\n",
            "day                       0\n",
            "week                      0\n",
            "quarter                   0\n",
            "snap_active               0\n",
            "lag_7                213430\n",
            "lag_28               853720\n",
            "rolling_mean_7       213430\n",
            "rolling_std_7        213430\n",
            "rolling_mean_28      853720\n",
            "rolling_std_28       853720\n",
            "dtype: int64\n"
          ]
        }
      ],
      "source": [
        "# Verificar valores nulos\n",
        "print(\"\\nValores ausentes por coluna:\")\n",
        "print(df.isnull().sum())"
      ]
    },
    {
      "cell_type": "code",
      "execution_count": 13,
      "id": "B76QeMgAsh3e",
      "metadata": {
        "id": "B76QeMgAsh3e"
      },
      "outputs": [],
      "source": [
        "# Definir a condição: linhas onde 'is_event' é 0\n",
        "condicao = df['is_event'] == 0\n",
        "\n",
        "# Definir as colunas que você quer modificar\n",
        "colunas_para_imputar = ['event_name', 'event_type']\n",
        "\n",
        "# Usar .loc para selecionar as linhas e colunas específicas e preencher os NAs\n",
        "df.loc[condicao, colunas_para_imputar] = df.loc[condicao, colunas_para_imputar].fillna('None')"
      ]
    },
    {
      "cell_type": "code",
      "execution_count": 14,
      "id": "b06cee36-1b0d-4333-be2e-f7d83d3c5630",
      "metadata": {
        "id": "b06cee36-1b0d-4333-be2e-f7d83d3c5630"
      },
      "outputs": [],
      "source": [
        "# Lista das colunas com valores ausentes\n",
        "cols_na = ['lag_7', 'lag_28', 'rolling_mean_7', 'rolling_std_7',\n",
        "           'rolling_mean_28', 'rolling_std_28']\n",
        "\n",
        "# Imputar com a mediana por produto\n",
        "for col in cols_na:\n",
        "    df[col] = df.groupby('id')[col].transform(lambda x: x.fillna(x.median()))"
      ]
    },
    {
      "cell_type": "code",
      "execution_count": 15,
      "id": "ip4JUBn0u2hn",
      "metadata": {
        "id": "ip4JUBn0u2hn",
        "colab": {
          "base_uri": "https://localhost:8080/"
        },
        "outputId": "469854b1-f249-45a2-cbbe-0a69c0843e5a"
      },
      "outputs": [
        {
          "output_type": "stream",
          "name": "stdout",
          "text": [
            "\n",
            "Valores ausentes por coluna:\n",
            "id                 0\n",
            "item_id            0\n",
            "dept_id            0\n",
            "cat_id             0\n",
            "store_id           0\n",
            "state_id           0\n",
            "d                  0\n",
            "sales              0\n",
            "date               0\n",
            "weekday            0\n",
            "wday               0\n",
            "month              0\n",
            "year               0\n",
            "event_name         0\n",
            "event_type         0\n",
            "is_event           0\n",
            "sell_price         0\n",
            "day                0\n",
            "week               0\n",
            "quarter            0\n",
            "snap_active        0\n",
            "lag_7              0\n",
            "lag_28             0\n",
            "rolling_mean_7     0\n",
            "rolling_std_7      0\n",
            "rolling_mean_28    0\n",
            "rolling_std_28     0\n",
            "dtype: int64\n"
          ]
        }
      ],
      "source": [
        "# Verificar valores nulos\n",
        "print(\"\\nValores ausentes por coluna:\")\n",
        "print(df.isnull().sum())"
      ]
    },
    {
      "cell_type": "markdown",
      "id": "69de89e5-6a4a-4ff0-bd99-5f63003cebd3",
      "metadata": {
        "id": "69de89e5-6a4a-4ff0-bd99-5f63003cebd3"
      },
      "source": [
        "## Codificar variáveis categóricas com LabelEncoder"
      ]
    },
    {
      "cell_type": "code",
      "execution_count": 16,
      "id": "fdf9c8bc-2099-4210-8a53-e191510702e7",
      "metadata": {
        "id": "fdf9c8bc-2099-4210-8a53-e191510702e7",
        "colab": {
          "base_uri": "https://localhost:8080/"
        },
        "outputId": "967cd72d-8ab4-483f-b8db-6c6406f861c9"
      },
      "outputs": [
        {
          "output_type": "stream",
          "name": "stdout",
          "text": [
            "<class 'pandas.core.frame.DataFrame'>\n",
            "RangeIndex: 58449330 entries, 0 to 58449329\n",
            "Data columns (total 27 columns):\n",
            " #   Column           Dtype         \n",
            "---  ------           -----         \n",
            " 0   id               object        \n",
            " 1   item_id          object        \n",
            " 2   dept_id          object        \n",
            " 3   cat_id           object        \n",
            " 4   store_id         object        \n",
            " 5   state_id         object        \n",
            " 6   d                object        \n",
            " 7   sales            int64         \n",
            " 8   date             datetime64[ns]\n",
            " 9   weekday          object        \n",
            " 10  wday             int64         \n",
            " 11  month            int64         \n",
            " 12  year             int64         \n",
            " 13  event_name       object        \n",
            " 14  event_type       object        \n",
            " 15  is_event         int64         \n",
            " 16  sell_price       float64       \n",
            " 17  day              int64         \n",
            " 18  week             int64         \n",
            " 19  quarter          int64         \n",
            " 20  snap_active      int64         \n",
            " 21  lag_7            float64       \n",
            " 22  lag_28           float64       \n",
            " 23  rolling_mean_7   float64       \n",
            " 24  rolling_std_7    float64       \n",
            " 25  rolling_mean_28  float64       \n",
            " 26  rolling_std_28   float64       \n",
            "dtypes: datetime64[ns](1), float64(7), int64(9), object(10)\n",
            "memory usage: 11.8+ GB\n"
          ]
        }
      ],
      "source": [
        "df.info()"
      ]
    },
    {
      "cell_type": "code",
      "execution_count": 17,
      "id": "832b8e89-73a4-423b-8656-f02c62867206",
      "metadata": {
        "id": "832b8e89-73a4-423b-8656-f02c62867206"
      },
      "outputs": [],
      "source": [
        "# Colunas categóricas tipo 'object' para codificar\n",
        "categorical_cols = ['item_id', 'dept_id', 'cat_id', 'store_id', 'state_id',\n",
        "                    'weekday', 'event_name', 'event_type', 'd']\n",
        "\n",
        "# Aplicar LabelEncoder em todas as colunas listadas\n",
        "for col in categorical_cols:\n",
        "    le = LabelEncoder()\n",
        "    df[col] = le.fit_transform(df[col])"
      ]
    },
    {
      "cell_type": "markdown",
      "id": "0ad0bbc0-d555-4bba-8d96-63af54440e13",
      "metadata": {
        "id": "0ad0bbc0-d555-4bba-8d96-63af54440e13"
      },
      "source": [
        "## Separação entre Treino/Teste\n",
        "#### em séries temporais não utilizamos 70/30 ou 80/20"
      ]
    },
    {
      "cell_type": "code",
      "execution_count": 18,
      "id": "ab1666de-69f7-415e-9bc3-14ef6b136a10",
      "metadata": {
        "id": "ab1666de-69f7-415e-9bc3-14ef6b136a10",
        "colab": {
          "base_uri": "https://localhost:8080/"
        },
        "outputId": "4c67dd13-b474-472f-e50e-803f487aed2e"
      },
      "outputs": [
        {
          "output_type": "stream",
          "name": "stdout",
          "text": [
            "Fold 1 salvo: Train 0 → 14612333 | Test 14612334 → 29224665\n",
            "Fold 2 salvo: Train 0 → 29224665 | Test 29224666 → 43836997\n",
            "Fold 3 salvo: Train 0 → 43836997 | Test 43836998 → 58449329\n",
            "Fold 1 salvo: Train 0 → 14612333 | Test 14612334 → 29224665\n",
            "Fold 2 salvo: Train 0 → 29224665 | Test 29224666 → 43836997\n",
            "Fold 3 salvo: Train 0 → 43836997 | Test 43836998 → 58449329\n"
          ]
        }
      ],
      "source": [
        "# Definir as features e target\n",
        "features = ['item_id', 'dept_id', 'cat_id', 'store_id', 'state_id','sell_price', 'event_name', 'event_type', 'snap_active', 'day', 'month',\n",
        "            'year', 'quarter', 'wday', 'is_event','lag_7', 'lag_28', 'rolling_mean_7', 'rolling_std_7','rolling_mean_28', 'rolling_std_28']\n",
        "target = 'sales'\n",
        "\n",
        "X = df[features]\n",
        "y = df[target]\n",
        "\n",
        "# Criar o validador\n",
        "tscv = TimeSeriesSplit(n_splits=3)\n",
        "\n",
        "# Listas para armazenar os folds\n",
        "folds = []\n",
        "\n",
        "# Separar os dados e armazenar em cada fold\n",
        "for fold, (train_idx, test_idx) in enumerate(tscv.split(X)):\n",
        "    X_train, X_test = X.iloc[train_idx], X.iloc[test_idx]\n",
        "    y_train, y_test = y.iloc[train_idx], y.iloc[test_idx]\n",
        "\n",
        "    folds.append({\n",
        "        'fold': fold + 1,\n",
        "        'X_train': X_train,\n",
        "        'X_test': X_test,\n",
        "        'y_train': y_train,\n",
        "        'y_test': y_test\n",
        "    })\n",
        "\n",
        "    print(f\"Fold {fold+1} salvo: Train {train_idx[0]} → {train_idx[-1]} | Test {test_idx[0]} → {test_idx[-1]}\")# Definir as features e target\n",
        "features = ['item_id', 'dept_id', 'cat_id', 'store_id', 'state_id','sell_price', 'event_name', 'event_type', 'snap_active', 'day', 'month',\n",
        "            'year', 'quarter', 'wday', 'is_event','lag_7', 'lag_28', 'rolling_mean_7', 'rolling_std_7','rolling_mean_28', 'rolling_std_28']\n",
        "target = 'sales'\n",
        "\n",
        "X = df[features]\n",
        "y = df[target]\n",
        "\n",
        "# Criar o validador\n",
        "tscv = TimeSeriesSplit(n_splits=3)\n",
        "\n",
        "# Listas para armazenar os folds\n",
        "folds = []\n",
        "\n",
        "# Separar os dados e armazenar em cada fold\n",
        "for fold, (train_idx, test_idx) in enumerate(tscv.split(X)):\n",
        "    X_train, X_test = X.iloc[train_idx], X.iloc[test_idx]\n",
        "    y_train, y_test = y.iloc[train_idx], y.iloc[test_idx]\n",
        "\n",
        "    folds.append({\n",
        "        'fold': fold + 1,\n",
        "        'X_train': X_train,\n",
        "        'X_test': X_test,\n",
        "        'y_train': y_train,\n",
        "        'y_test': y_test\n",
        "    })\n",
        "\n",
        "    print(f\"Fold {fold+1} salvo: Train {train_idx[0]} → {train_idx[-1]} | Test {test_idx[0]} → {test_idx[-1]}\")"
      ]
    },
    {
      "cell_type": "markdown",
      "source": [
        "### **Como o `TimeSeriesSplit` funciona**\n",
        "\n",
        "O `TimeSeriesSplit` não embaralha os dados — ele respeita a ordem temporal.\n",
        "Ou seja, ele vai dividindo assim:\n",
        "\n",
        "| Fold | Treino (início → fim) | Teste (início → fim)    |\n",
        "| ---- | --------------------- | ----------------------- |\n",
        "| 1    | 0 → 14 612 333        | 14 612 334 → 29 224 665 |\n",
        "| 2    | 0 → 29 224 665        | 29 224 666 → 43 836 997 |\n",
        "| 3    | 0 → 43 836 997        | 43 836 998 → 58 449 329 |\n",
        "\n",
        "\n",
        "* Cada fold **usa mais dados históricos** do que o anterior.\n",
        "* O modelo sempre **treina no passado** e **testa no futuro** — o que simula bem o cenário real de previsão.\n",
        "* Só que… o primeiro fold tem **menos histórico** e, portanto, **menos contexto** para aprender."
      ],
      "metadata": {
        "id": "hMEHVIV-kp-a"
      },
      "id": "hMEHVIV-kp-a"
    },
    {
      "cell_type": "code",
      "source": [
        "# --- DADOS DOS FOLDS ---\n",
        "folds_info = [\n",
        "    {\"fold\": 1, \"train_start\": 0, \"train_end\": 14612333, \"test_start\": 14612334, \"test_end\": 29224665},\n",
        "    {\"fold\": 2, \"train_start\": 0, \"train_end\": 29224665, \"test_start\": 29224666, \"test_end\": 43836997},\n",
        "    {\"fold\": 3, \"train_start\": 0, \"train_end\": 43836997, \"test_start\": 43836998, \"test_end\": 58449329},\n",
        "]\n",
        "\n",
        "# --- PLOT ---\n",
        "plt.figure(figsize=(10, 3))\n",
        "\n",
        "for fold in folds_info:\n",
        "    # Treino\n",
        "    plt.barh(f\"Fold {fold['fold']}\", fold[\"train_end\"] - fold[\"train_start\"],\n",
        "             left=fold[\"train_start\"], color=\"skyblue\",\n",
        "             label=\"Treino\" if fold[\"fold\"] == 1 else \"\")\n",
        "    # Teste\n",
        "    plt.barh(f\"Fold {fold['fold']}\", fold[\"test_end\"] - fold[\"test_start\"],\n",
        "             left=fold[\"test_start\"], color=\"salmon\",\n",
        "             label=\"Teste\" if fold[\"fold\"] == 1 else \"\")\n",
        "\n",
        "plt.xlabel(\"Índices (ordem temporal dos dados)\")\n",
        "plt.title(\"TimeSeriesSplit – Intervalos de treino e teste por fold\")\n",
        "plt.legend()\n",
        "plt.grid(True, axis=\"x\", linestyle=\"--\", alpha=0.6)\n",
        "plt.tight_layout()\n",
        "plt.show()"
      ],
      "metadata": {
        "id": "hZv9HST3mqzX",
        "colab": {
          "base_uri": "https://localhost:8080/",
          "height": 0
        },
        "outputId": "57e60574-9c84-45d5-84f1-0c25fcebc343"
      },
      "id": "hZv9HST3mqzX",
      "execution_count": 19,
      "outputs": [
        {
          "output_type": "display_data",
          "data": {
            "text/plain": [
              "<Figure size 1000x300 with 1 Axes>"
            ],
            "image/png": "[encoded data removed]"
          },
          "metadata": {}
        }
      ]
    },
    {
      "cell_type": "markdown",
      "id": "c688ad5b-2196-4873-bb88-1b1006efecd6",
      "metadata": {
        "id": "c688ad5b-2196-4873-bb88-1b1006efecd6"
      },
      "source": [
        "## Modelos"
      ]
    },
    {
      "cell_type": "markdown",
      "id": "911090d6-b9dc-46c7-aff9-34fb6e446be4",
      "metadata": {
        "id": "911090d6-b9dc-46c7-aff9-34fb6e446be4"
      },
      "source": [
        "### Linear Regression"
      ]
    },
    {
      "cell_type": "code",
      "execution_count": 20,
      "id": "8be18dcd-7660-42df-b67c-a41b81114285",
      "metadata": {
        "id": "8be18dcd-7660-42df-b67c-a41b81114285",
        "colab": {
          "base_uri": "https://localhost:8080/"
        },
        "outputId": "ea6041eb-d540-4e43-b6e6-95640e46a430"
      },
      "outputs": [
        {
          "output_type": "stream",
          "name": "stdout",
          "text": [
            "[Linear Regression] Fold 1 – RMSE: 3.0052\n",
            "[Linear Regression] Fold 2 – RMSE: 1.5783\n",
            "[Linear Regression] Fold 3 – RMSE: 1.2901\n"
          ]
        }
      ],
      "source": [
        "lr_models = []\n",
        "\n",
        "for fold in folds:\n",
        "    model = LinearRegression()\n",
        "    model.fit(fold['X_train'], fold['y_train'])\n",
        "\n",
        "    y_pred = model.predict(fold['X_test'])\n",
        "    rmse = np.sqrt(mean_squared_error(fold['y_test'], y_pred))\n",
        "\n",
        "    lr_models.append(model)\n",
        "    print(f\"[Linear Regression] Fold {fold['fold']} – RMSE: {rmse:.4f}\")"
      ]
    },
    {
      "cell_type": "markdown",
      "id": "47374d83-441e-4992-91ed-27e2c136ee74",
      "metadata": {
        "id": "47374d83-441e-4992-91ed-27e2c136ee74"
      },
      "source": [
        "### LightGBM"
      ]
    },
    {
      "cell_type": "code",
      "execution_count": 21,
      "id": "12444920-c1a1-4f09-8a9c-051efa1b515d",
      "metadata": {
        "id": "12444920-c1a1-4f09-8a9c-051efa1b515d",
        "colab": {
          "base_uri": "https://localhost:8080/"
        },
        "outputId": "c05b107a-d929-4f28-8366-ba5d30b43944"
      },
      "outputs": [
        {
          "output_type": "stream",
          "name": "stdout",
          "text": [
            "[1]\tvalid_0's rmse: 5.25674\n",
            "Training until validation scores don't improve for 10 rounds\n",
            "[2]\tvalid_0's rmse: 4.91402\n",
            "[3]\tvalid_0's rmse: 4.60839\n",
            "[4]\tvalid_0's rmse: 4.34641\n",
            "[5]\tvalid_0's rmse: 4.12268\n",
            "[6]\tvalid_0's rmse: 3.92909\n",
            "[7]\tvalid_0's rmse: 3.76905\n",
            "[8]\tvalid_0's rmse: 3.63343\n",
            "[9]\tvalid_0's rmse: 3.51844\n",
            "[10]\tvalid_0's rmse: 3.4205\n",
            "[11]\tvalid_0's rmse: 3.33903\n",
            "[12]\tvalid_0's rmse: 3.2668\n",
            "[13]\tvalid_0's rmse: 3.21113\n",
            "[14]\tvalid_0's rmse: 3.16367\n",
            "[15]\tvalid_0's rmse: 3.12589\n",
            "[16]\tvalid_0's rmse: 3.09154\n",
            "[17]\tvalid_0's rmse: 3.06237\n",
            "[18]\tvalid_0's rmse: 3.039\n",
            "[19]\tvalid_0's rmse: 3.02104\n",
            "[20]\tvalid_0's rmse: 3.00523\n",
            "[21]\tvalid_0's rmse: 2.9905\n",
            "[22]\tvalid_0's rmse: 2.97892\n",
            "[23]\tvalid_0's rmse: 2.97067\n",
            "[24]\tvalid_0's rmse: 2.96406\n",
            "[25]\tvalid_0's rmse: 2.95671\n",
            "[26]\tvalid_0's rmse: 2.95418\n",
            "[27]\tvalid_0's rmse: 2.95039\n",
            "[28]\tvalid_0's rmse: 2.94499\n",
            "[29]\tvalid_0's rmse: 2.94059\n",
            "[30]\tvalid_0's rmse: 2.93886\n",
            "[31]\tvalid_0's rmse: 2.93709\n",
            "[32]\tvalid_0's rmse: 2.93477\n",
            "[33]\tvalid_0's rmse: 2.93371\n",
            "[34]\tvalid_0's rmse: 2.93213\n",
            "[35]\tvalid_0's rmse: 2.92989\n",
            "[36]\tvalid_0's rmse: 2.92934\n",
            "[37]\tvalid_0's rmse: 2.92733\n",
            "[38]\tvalid_0's rmse: 2.92618\n",
            "[39]\tvalid_0's rmse: 2.92411\n",
            "[40]\tvalid_0's rmse: 2.92312\n",
            "[41]\tvalid_0's rmse: 2.92166\n",
            "[42]\tvalid_0's rmse: 2.92111\n",
            "[43]\tvalid_0's rmse: 2.91978\n",
            "[44]\tvalid_0's rmse: 2.91906\n",
            "[45]\tvalid_0's rmse: 2.91707\n",
            "[46]\tvalid_0's rmse: 2.91543\n",
            "[47]\tvalid_0's rmse: 2.91762\n",
            "[48]\tvalid_0's rmse: 2.91751\n",
            "[49]\tvalid_0's rmse: 2.91704\n",
            "[50]\tvalid_0's rmse: 2.91681\n",
            "[51]\tvalid_0's rmse: 2.91676\n",
            "[52]\tvalid_0's rmse: 2.91649\n",
            "[53]\tvalid_0's rmse: 2.91514\n",
            "[54]\tvalid_0's rmse: 2.91486\n",
            "[55]\tvalid_0's rmse: 2.91478\n",
            "[56]\tvalid_0's rmse: 2.91398\n",
            "[57]\tvalid_0's rmse: 2.91349\n",
            "[58]\tvalid_0's rmse: 2.91239\n",
            "[59]\tvalid_0's rmse: 2.91211\n",
            "[60]\tvalid_0's rmse: 2.91161\n",
            "[61]\tvalid_0's rmse: 2.91049\n",
            "[62]\tvalid_0's rmse: 2.91017\n",
            "[63]\tvalid_0's rmse: 2.90949\n",
            "[64]\tvalid_0's rmse: 2.91022\n",
            "[65]\tvalid_0's rmse: 2.90982\n",
            "[66]\tvalid_0's rmse: 2.90899\n",
            "[67]\tvalid_0's rmse: 2.90869\n",
            "[68]\tvalid_0's rmse: 2.90859\n",
            "[69]\tvalid_0's rmse: 2.90837\n",
            "[70]\tvalid_0's rmse: 2.90821\n",
            "[71]\tvalid_0's rmse: 2.90792\n",
            "[72]\tvalid_0's rmse: 2.90764\n",
            "[73]\tvalid_0's rmse: 2.90749\n",
            "[74]\tvalid_0's rmse: 2.90728\n",
            "[75]\tvalid_0's rmse: 2.90632\n",
            "[76]\tvalid_0's rmse: 2.90632\n",
            "[77]\tvalid_0's rmse: 2.90657\n",
            "[78]\tvalid_0's rmse: 2.9057\n",
            "[79]\tvalid_0's rmse: 2.90545\n",
            "[80]\tvalid_0's rmse: 2.90539\n",
            "[81]\tvalid_0's rmse: 2.90526\n",
            "[82]\tvalid_0's rmse: 2.90535\n",
            "[83]\tvalid_0's rmse: 2.90522\n",
            "[84]\tvalid_0's rmse: 2.90451\n",
            "[85]\tvalid_0's rmse: 2.90441\n",
            "[86]\tvalid_0's rmse: 2.90447\n",
            "[87]\tvalid_0's rmse: 2.90379\n",
            "[88]\tvalid_0's rmse: 2.90299\n",
            "[89]\tvalid_0's rmse: 2.90273\n",
            "[90]\tvalid_0's rmse: 2.90212\n",
            "[91]\tvalid_0's rmse: 2.90203\n",
            "[92]\tvalid_0's rmse: 2.90186\n",
            "[93]\tvalid_0's rmse: 2.90169\n",
            "[94]\tvalid_0's rmse: 2.90171\n",
            "[95]\tvalid_0's rmse: 2.90179\n",
            "[96]\tvalid_0's rmse: 2.90188\n",
            "[97]\tvalid_0's rmse: 2.90205\n",
            "[98]\tvalid_0's rmse: 2.90185\n",
            "[99]\tvalid_0's rmse: 2.90285\n",
            "[100]\tvalid_0's rmse: 2.90242\n",
            "Did not meet early stopping. Best iteration is:\n",
            "[93]\tvalid_0's rmse: 2.90169\n",
            "[LightGBM GPU] Fold 1 – RMSE: 2.9017\n",
            "[1]\tvalid_0's rmse: 2.18814\n",
            "Training until validation scores don't improve for 10 rounds\n",
            "[2]\tvalid_0's rmse: 2.0838\n",
            "[3]\tvalid_0's rmse: 1.99628\n",
            "[4]\tvalid_0's rmse: 1.92045\n",
            "[5]\tvalid_0's rmse: 1.85854\n",
            "[6]\tvalid_0's rmse: 1.80616\n",
            "[7]\tvalid_0's rmse: 1.76127\n",
            "[8]\tvalid_0's rmse: 1.72419\n",
            "[9]\tvalid_0's rmse: 1.69419\n",
            "[10]\tvalid_0's rmse: 1.6695\n",
            "[11]\tvalid_0's rmse: 1.64983\n",
            "[12]\tvalid_0's rmse: 1.63283\n",
            "[13]\tvalid_0's rmse: 1.61917\n",
            "[14]\tvalid_0's rmse: 1.60816\n",
            "[15]\tvalid_0's rmse: 1.59934\n",
            "[16]\tvalid_0's rmse: 1.59206\n",
            "[17]\tvalid_0's rmse: 1.58608\n",
            "[18]\tvalid_0's rmse: 1.58113\n",
            "[19]\tvalid_0's rmse: 1.57727\n",
            "[20]\tvalid_0's rmse: 1.57393\n",
            "[21]\tvalid_0's rmse: 1.571\n",
            "[22]\tvalid_0's rmse: 1.5688\n",
            "[23]\tvalid_0's rmse: 1.56687\n",
            "[24]\tvalid_0's rmse: 1.56548\n",
            "[25]\tvalid_0's rmse: 1.56423\n",
            "[26]\tvalid_0's rmse: 1.56317\n",
            "[27]\tvalid_0's rmse: 1.56224\n",
            "[28]\tvalid_0's rmse: 1.56161\n",
            "[29]\tvalid_0's rmse: 1.56111\n",
            "[30]\tvalid_0's rmse: 1.56054\n",
            "[31]\tvalid_0's rmse: 1.56\n",
            "[32]\tvalid_0's rmse: 1.55971\n",
            "[33]\tvalid_0's rmse: 1.55938\n",
            "[34]\tvalid_0's rmse: 1.55887\n",
            "[35]\tvalid_0's rmse: 1.55867\n",
            "[36]\tvalid_0's rmse: 1.55833\n",
            "[37]\tvalid_0's rmse: 1.55805\n",
            "[38]\tvalid_0's rmse: 1.55783\n",
            "[39]\tvalid_0's rmse: 1.55766\n",
            "[40]\tvalid_0's rmse: 1.55738\n",
            "[41]\tvalid_0's rmse: 1.5572\n",
            "[42]\tvalid_0's rmse: 1.5571\n",
            "[43]\tvalid_0's rmse: 1.55721\n",
            "[44]\tvalid_0's rmse: 1.55702\n",
            "[45]\tvalid_0's rmse: 1.55678\n",
            "[46]\tvalid_0's rmse: 1.55669\n",
            "[47]\tvalid_0's rmse: 1.55662\n",
            "[48]\tvalid_0's rmse: 1.55644\n",
            "[49]\tvalid_0's rmse: 1.55634\n",
            "[50]\tvalid_0's rmse: 1.55641\n",
            "[51]\tvalid_0's rmse: 1.5564\n",
            "[52]\tvalid_0's rmse: 1.55627\n",
            "[53]\tvalid_0's rmse: 1.55594\n",
            "[54]\tvalid_0's rmse: 1.55576\n",
            "[55]\tvalid_0's rmse: 1.55511\n",
            "[56]\tvalid_0's rmse: 1.555\n",
            "[57]\tvalid_0's rmse: 1.55491\n",
            "[58]\tvalid_0's rmse: 1.55485\n",
            "[59]\tvalid_0's rmse: 1.55482\n",
            "[60]\tvalid_0's rmse: 1.55478\n",
            "[61]\tvalid_0's rmse: 1.55458\n",
            "[62]\tvalid_0's rmse: 1.55456\n",
            "[63]\tvalid_0's rmse: 1.55463\n",
            "[64]\tvalid_0's rmse: 1.55443\n",
            "[65]\tvalid_0's rmse: 1.55442\n",
            "[66]\tvalid_0's rmse: 1.55432\n",
            "[67]\tvalid_0's rmse: 1.55428\n",
            "[68]\tvalid_0's rmse: 1.55426\n",
            "[69]\tvalid_0's rmse: 1.55417\n",
            "[70]\tvalid_0's rmse: 1.55408\n",
            "[71]\tvalid_0's rmse: 1.55407\n",
            "[72]\tvalid_0's rmse: 1.55409\n",
            "[73]\tvalid_0's rmse: 1.55388\n",
            "[74]\tvalid_0's rmse: 1.55393\n",
            "[75]\tvalid_0's rmse: 1.5539\n",
            "[76]\tvalid_0's rmse: 1.55382\n",
            "[77]\tvalid_0's rmse: 1.55367\n",
            "[78]\tvalid_0's rmse: 1.55377\n",
            "[79]\tvalid_0's rmse: 1.55378\n",
            "[80]\tvalid_0's rmse: 1.55375\n",
            "[81]\tvalid_0's rmse: 1.55368\n",
            "[82]\tvalid_0's rmse: 1.55368\n",
            "[83]\tvalid_0's rmse: 1.55316\n",
            "[84]\tvalid_0's rmse: 1.55317\n",
            "[85]\tvalid_0's rmse: 1.55309\n",
            "[86]\tvalid_0's rmse: 1.55294\n",
            "[87]\tvalid_0's rmse: 1.55274\n",
            "[88]\tvalid_0's rmse: 1.55275\n",
            "[89]\tvalid_0's rmse: 1.55278\n",
            "[90]\tvalid_0's rmse: 1.55282\n",
            "[91]\tvalid_0's rmse: 1.55276\n",
            "[92]\tvalid_0's rmse: 1.5528\n",
            "[93]\tvalid_0's rmse: 1.5527\n",
            "[94]\tvalid_0's rmse: 1.55267\n",
            "[95]\tvalid_0's rmse: 1.55237\n",
            "[96]\tvalid_0's rmse: 1.55214\n",
            "[97]\tvalid_0's rmse: 1.55217\n",
            "[98]\tvalid_0's rmse: 1.55202\n",
            "[99]\tvalid_0's rmse: 1.55201\n",
            "[100]\tvalid_0's rmse: 1.55178\n",
            "Did not meet early stopping. Best iteration is:\n",
            "[100]\tvalid_0's rmse: 1.55178\n",
            "[LightGBM GPU] Fold 2 – RMSE: 1.5518\n",
            "[1]\tvalid_0's rmse: 1.94877\n",
            "Training until validation scores don't improve for 10 rounds\n",
            "[2]\tvalid_0's rmse: 1.84098\n",
            "[3]\tvalid_0's rmse: 1.74927\n",
            "[4]\tvalid_0's rmse: 1.66963\n",
            "[5]\tvalid_0's rmse: 1.60246\n",
            "[6]\tvalid_0's rmse: 1.54615\n",
            "[7]\tvalid_0's rmse: 1.49998\n",
            "[8]\tvalid_0's rmse: 1.45982\n",
            "[9]\tvalid_0's rmse: 1.42629\n",
            "[10]\tvalid_0's rmse: 1.39822\n",
            "[11]\tvalid_0's rmse: 1.37506\n",
            "[12]\tvalid_0's rmse: 1.3562\n",
            "[13]\tvalid_0's rmse: 1.34066\n",
            "[14]\tvalid_0's rmse: 1.32799\n",
            "[15]\tvalid_0's rmse: 1.31723\n",
            "[16]\tvalid_0's rmse: 1.30848\n",
            "[17]\tvalid_0's rmse: 1.30134\n",
            "[18]\tvalid_0's rmse: 1.29557\n",
            "[19]\tvalid_0's rmse: 1.29092\n",
            "[20]\tvalid_0's rmse: 1.28703\n",
            "[21]\tvalid_0's rmse: 1.28446\n",
            "[22]\tvalid_0's rmse: 1.28151\n",
            "[23]\tvalid_0's rmse: 1.27901\n",
            "[24]\tvalid_0's rmse: 1.27718\n",
            "[25]\tvalid_0's rmse: 1.27573\n",
            "[26]\tvalid_0's rmse: 1.27448\n",
            "[27]\tvalid_0's rmse: 1.27383\n",
            "[28]\tvalid_0's rmse: 1.27259\n",
            "[29]\tvalid_0's rmse: 1.27177\n",
            "[30]\tvalid_0's rmse: 1.27108\n",
            "[31]\tvalid_0's rmse: 1.27044\n",
            "[32]\tvalid_0's rmse: 1.27\n",
            "[33]\tvalid_0's rmse: 1.26962\n",
            "[34]\tvalid_0's rmse: 1.26903\n",
            "[35]\tvalid_0's rmse: 1.26882\n",
            "[36]\tvalid_0's rmse: 1.26843\n",
            "[37]\tvalid_0's rmse: 1.26827\n",
            "[38]\tvalid_0's rmse: 1.26807\n",
            "[39]\tvalid_0's rmse: 1.26775\n",
            "[40]\tvalid_0's rmse: 1.26749\n",
            "[41]\tvalid_0's rmse: 1.26745\n",
            "[42]\tvalid_0's rmse: 1.26723\n",
            "[43]\tvalid_0's rmse: 1.26703\n",
            "[44]\tvalid_0's rmse: 1.26669\n",
            "[45]\tvalid_0's rmse: 1.26654\n",
            "[46]\tvalid_0's rmse: 1.26616\n",
            "[47]\tvalid_0's rmse: 1.26599\n",
            "[48]\tvalid_0's rmse: 1.26574\n",
            "[49]\tvalid_0's rmse: 1.26568\n",
            "[50]\tvalid_0's rmse: 1.26549\n",
            "[51]\tvalid_0's rmse: 1.26515\n",
            "[52]\tvalid_0's rmse: 1.26509\n",
            "[53]\tvalid_0's rmse: 1.26494\n",
            "[54]\tvalid_0's rmse: 1.26491\n",
            "[55]\tvalid_0's rmse: 1.26474\n",
            "[56]\tvalid_0's rmse: 1.26462\n",
            "[57]\tvalid_0's rmse: 1.26461\n",
            "[58]\tvalid_0's rmse: 1.26447\n",
            "[59]\tvalid_0's rmse: 1.26452\n",
            "[60]\tvalid_0's rmse: 1.26437\n",
            "[61]\tvalid_0's rmse: 1.26408\n",
            "[62]\tvalid_0's rmse: 1.26408\n",
            "[63]\tvalid_0's rmse: 1.2641\n",
            "[64]\tvalid_0's rmse: 1.26398\n",
            "[65]\tvalid_0's rmse: 1.26391\n",
            "[66]\tvalid_0's rmse: 1.26371\n",
            "[67]\tvalid_0's rmse: 1.2636\n",
            "[68]\tvalid_0's rmse: 1.26353\n",
            "[69]\tvalid_0's rmse: 1.26342\n",
            "[70]\tvalid_0's rmse: 1.2634\n",
            "[71]\tvalid_0's rmse: 1.26342\n",
            "[72]\tvalid_0's rmse: 1.26329\n",
            "[73]\tvalid_0's rmse: 1.26331\n",
            "[74]\tvalid_0's rmse: 1.26325\n",
            "[75]\tvalid_0's rmse: 1.26322\n",
            "[76]\tvalid_0's rmse: 1.26308\n",
            "[77]\tvalid_0's rmse: 1.26299\n",
            "[78]\tvalid_0's rmse: 1.26295\n",
            "[79]\tvalid_0's rmse: 1.26282\n",
            "[80]\tvalid_0's rmse: 1.26276\n",
            "[81]\tvalid_0's rmse: 1.26274\n",
            "[82]\tvalid_0's rmse: 1.26272\n",
            "[83]\tvalid_0's rmse: 1.26271\n",
            "[84]\tvalid_0's rmse: 1.26266\n",
            "[85]\tvalid_0's rmse: 1.2627\n",
            "[86]\tvalid_0's rmse: 1.26264\n",
            "[87]\tvalid_0's rmse: 1.2625\n",
            "[88]\tvalid_0's rmse: 1.26246\n",
            "[89]\tvalid_0's rmse: 1.26233\n",
            "[90]\tvalid_0's rmse: 1.26218\n",
            "[91]\tvalid_0's rmse: 1.26218\n",
            "[92]\tvalid_0's rmse: 1.26217\n",
            "[93]\tvalid_0's rmse: 1.26216\n",
            "[94]\tvalid_0's rmse: 1.26213\n",
            "[95]\tvalid_0's rmse: 1.26202\n",
            "[96]\tvalid_0's rmse: 1.2619\n",
            "[97]\tvalid_0's rmse: 1.26183\n",
            "[98]\tvalid_0's rmse: 1.26176\n",
            "[99]\tvalid_0's rmse: 1.26161\n",
            "[100]\tvalid_0's rmse: 1.26161\n",
            "Did not meet early stopping. Best iteration is:\n",
            "[100]\tvalid_0's rmse: 1.26161\n",
            "[LightGBM GPU] Fold 3 – RMSE: 1.2616\n"
          ]
        }
      ],
      "source": [
        "lgb_models = []\n",
        "\n",
        "for fold in folds:\n",
        "    train_data = lgb.Dataset(fold['X_train'], label=fold['y_train'])\n",
        "    valid_data = lgb.Dataset(fold['X_test'], label=fold['y_test'])\n",
        "\n",
        "    params = {\n",
        "        'device': 'gpu',            # Ativa GPU\n",
        "        'gpu_use_dp': False,        # Usa float32 (menos RAM)\n",
        "        'objective': 'regression',\n",
        "        'metric': 'rmse',\n",
        "        'learning_rate': 0.1,\n",
        "        'verbosity': -1\n",
        "    }\n",
        "\n",
        "    model = lgb.train(\n",
        "        params,\n",
        "        train_data,\n",
        "        valid_sets=[valid_data],\n",
        "        num_boost_round=100,\n",
        "        callbacks=[early_stopping(stopping_rounds=10), lgb.log_evaluation()]\n",
        "    )\n",
        "\n",
        "    y_pred = model.predict(fold['X_test'])\n",
        "    rmse = np.sqrt(mean_squared_error(fold['y_test'], y_pred))\n",
        "\n",
        "    lgb_models.append(model) # Appending models inside loop might consume too much memory\n",
        "    print(f\"[LightGBM GPU] Fold {fold['fold']} – RMSE: {rmse:.4f}\")"
      ]
    },
    {
      "cell_type": "markdown",
      "id": "e1af024d-60bc-4573-a31f-dc79294fee7f",
      "metadata": {
        "id": "e1af024d-60bc-4573-a31f-dc79294fee7f"
      },
      "source": [
        "### XGBoost"
      ]
    },
    {
      "cell_type": "code",
      "execution_count": 22,
      "id": "f0760e15-3723-40b3-a59b-189f1e3b8c5c",
      "metadata": {
        "id": "f0760e15-3723-40b3-a59b-189f1e3b8c5c",
        "colab": {
          "base_uri": "https://localhost:8080/"
        },
        "outputId": "dca365df-931a-43d1-b51a-7fbce6865ef7"
      },
      "outputs": [
        {
          "output_type": "stream",
          "name": "stdout",
          "text": [
            "[0]\tvalidation_0-rmse:5.25246\n",
            "[1]\tvalidation_0-rmse:4.91697\n",
            "[2]\tvalidation_0-rmse:4.64185\n",
            "[3]\tvalidation_0-rmse:4.37776\n",
            "[4]\tvalidation_0-rmse:4.17436\n",
            "[5]\tvalidation_0-rmse:4.01163\n",
            "[6]\tvalidation_0-rmse:3.87073\n",
            "[7]\tvalidation_0-rmse:3.73218\n",
            "[8]\tvalidation_0-rmse:3.64345\n",
            "[9]\tvalidation_0-rmse:3.57172\n",
            "[10]\tvalidation_0-rmse:3.51332\n",
            "[11]\tvalidation_0-rmse:3.46082\n",
            "[12]\tvalidation_0-rmse:3.42371\n",
            "[13]\tvalidation_0-rmse:3.39809\n",
            "[14]\tvalidation_0-rmse:3.39407\n",
            "[15]\tvalidation_0-rmse:3.37953\n",
            "[16]\tvalidation_0-rmse:3.37493\n",
            "[17]\tvalidation_0-rmse:3.37012\n",
            "[18]\tvalidation_0-rmse:3.36715\n",
            "[19]\tvalidation_0-rmse:3.36487\n",
            "[20]\tvalidation_0-rmse:3.36583\n",
            "[21]\tvalidation_0-rmse:3.36841\n",
            "[22]\tvalidation_0-rmse:3.36904\n",
            "[23]\tvalidation_0-rmse:3.36913\n",
            "[24]\tvalidation_0-rmse:3.37394\n",
            "[25]\tvalidation_0-rmse:3.38279\n",
            "[26]\tvalidation_0-rmse:3.38434\n",
            "[27]\tvalidation_0-rmse:3.39117\n",
            "[28]\tvalidation_0-rmse:3.38702\n",
            "[29]\tvalidation_0-rmse:3.38458\n",
            "[30]\tvalidation_0-rmse:3.38900\n",
            "[31]\tvalidation_0-rmse:3.39020\n",
            "[32]\tvalidation_0-rmse:3.39143\n",
            "[33]\tvalidation_0-rmse:3.38483\n",
            "[34]\tvalidation_0-rmse:3.38516\n",
            "[35]\tvalidation_0-rmse:3.38657\n",
            "[36]\tvalidation_0-rmse:3.38951\n",
            "[37]\tvalidation_0-rmse:3.39127\n",
            "[38]\tvalidation_0-rmse:3.39290\n",
            "[39]\tvalidation_0-rmse:3.39492\n",
            "[40]\tvalidation_0-rmse:3.39491\n",
            "[41]\tvalidation_0-rmse:3.39473\n",
            "[42]\tvalidation_0-rmse:3.39587\n",
            "[43]\tvalidation_0-rmse:3.39285\n",
            "[44]\tvalidation_0-rmse:3.39366\n",
            "[45]\tvalidation_0-rmse:3.39464\n",
            "[46]\tvalidation_0-rmse:3.39487\n",
            "[47]\tvalidation_0-rmse:3.39513\n",
            "[48]\tvalidation_0-rmse:3.39581\n",
            "[49]\tvalidation_0-rmse:3.39764\n",
            "[50]\tvalidation_0-rmse:3.39779\n",
            "[51]\tvalidation_0-rmse:3.39667\n",
            "[52]\tvalidation_0-rmse:3.39761\n",
            "[53]\tvalidation_0-rmse:3.39683\n",
            "[54]\tvalidation_0-rmse:3.39678\n",
            "[55]\tvalidation_0-rmse:3.39789\n",
            "[56]\tvalidation_0-rmse:3.39882\n",
            "[57]\tvalidation_0-rmse:3.39975\n",
            "[58]\tvalidation_0-rmse:3.39898\n",
            "[59]\tvalidation_0-rmse:3.39913\n",
            "[60]\tvalidation_0-rmse:3.39858\n",
            "[61]\tvalidation_0-rmse:3.39803\n",
            "[62]\tvalidation_0-rmse:3.39748\n",
            "[63]\tvalidation_0-rmse:3.39818\n",
            "[64]\tvalidation_0-rmse:3.39769\n",
            "[65]\tvalidation_0-rmse:3.40038\n",
            "[66]\tvalidation_0-rmse:3.39946\n",
            "[67]\tvalidation_0-rmse:3.39819\n",
            "[68]\tvalidation_0-rmse:3.39863\n",
            "[69]\tvalidation_0-rmse:3.40122\n",
            "[70]\tvalidation_0-rmse:3.40130\n",
            "[71]\tvalidation_0-rmse:3.40149\n",
            "[72]\tvalidation_0-rmse:3.40189\n",
            "[73]\tvalidation_0-rmse:3.40119\n",
            "[74]\tvalidation_0-rmse:3.40171\n",
            "[75]\tvalidation_0-rmse:3.40305\n",
            "[76]\tvalidation_0-rmse:3.40510\n",
            "[77]\tvalidation_0-rmse:3.39883\n",
            "[78]\tvalidation_0-rmse:3.39928\n",
            "[79]\tvalidation_0-rmse:3.40096\n",
            "[80]\tvalidation_0-rmse:3.40463\n",
            "[81]\tvalidation_0-rmse:3.40478\n",
            "[82]\tvalidation_0-rmse:3.40394\n",
            "[83]\tvalidation_0-rmse:3.41031\n",
            "[84]\tvalidation_0-rmse:3.41098\n",
            "[85]\tvalidation_0-rmse:3.41070\n",
            "[86]\tvalidation_0-rmse:3.41179\n",
            "[87]\tvalidation_0-rmse:3.41417\n",
            "[88]\tvalidation_0-rmse:3.41612\n",
            "[89]\tvalidation_0-rmse:3.41626\n",
            "[90]\tvalidation_0-rmse:3.41445\n",
            "[91]\tvalidation_0-rmse:3.41538\n",
            "[92]\tvalidation_0-rmse:3.41581\n",
            "[93]\tvalidation_0-rmse:3.41525\n",
            "[94]\tvalidation_0-rmse:3.41545\n",
            "[95]\tvalidation_0-rmse:3.41087\n",
            "[96]\tvalidation_0-rmse:3.41498\n",
            "[97]\tvalidation_0-rmse:3.41635\n",
            "[98]\tvalidation_0-rmse:3.41761\n",
            "[99]\tvalidation_0-rmse:3.41220\n"
          ]
        },
        {
          "output_type": "stream",
          "name": "stderr",
          "text": [
            "/usr/local/lib/python3.12/dist-packages/xgboost/core.py:774: UserWarning: [19:25:47] WARNING: /workspace/src/common/error_msg.cc:41: Falling back to prediction using DMatrix due to mismatched devices. This might lead to higher memory usage and slower performance. XGBoost is running on: cuda:0, while the input data is on: cpu.\n",
            "Potential solutions:\n",
            "- Use a data structure that matches the device ordinal in the booster.\n",
            "- Set the device for booster before call to inplace_predict.\n",
            "\n",
            "This warning will only be shown once.\n",
            "\n",
            "  return func(**kwargs)\n"
          ]
        },
        {
          "output_type": "stream",
          "name": "stdout",
          "text": [
            "[XGBoost GPU] Fold 1 - RMSE: 3.4122\n",
            "[0]\tvalidation_0-rmse:2.18524\n",
            "[1]\tvalidation_0-rmse:2.07868\n",
            "[2]\tvalidation_0-rmse:1.98862\n",
            "[3]\tvalidation_0-rmse:1.91265\n",
            "[4]\tvalidation_0-rmse:1.84869\n",
            "[5]\tvalidation_0-rmse:1.79596\n",
            "[6]\tvalidation_0-rmse:1.75254\n",
            "[7]\tvalidation_0-rmse:1.71610\n",
            "[8]\tvalidation_0-rmse:1.68595\n",
            "[9]\tvalidation_0-rmse:1.66073\n",
            "[10]\tvalidation_0-rmse:1.64052\n",
            "[11]\tvalidation_0-rmse:1.62395\n",
            "[12]\tvalidation_0-rmse:1.60992\n",
            "[13]\tvalidation_0-rmse:1.59864\n",
            "[14]\tvalidation_0-rmse:1.58923\n",
            "[15]\tvalidation_0-rmse:1.58182\n",
            "[16]\tvalidation_0-rmse:1.57542\n",
            "[17]\tvalidation_0-rmse:1.57065\n",
            "[18]\tvalidation_0-rmse:1.56692\n",
            "[19]\tvalidation_0-rmse:1.56372\n",
            "[20]\tvalidation_0-rmse:1.56143\n",
            "[21]\tvalidation_0-rmse:1.55920\n",
            "[22]\tvalidation_0-rmse:1.55763\n",
            "[23]\tvalidation_0-rmse:1.55596\n",
            "[24]\tvalidation_0-rmse:1.55487\n",
            "[25]\tvalidation_0-rmse:1.55362\n",
            "[26]\tvalidation_0-rmse:1.55279\n",
            "[27]\tvalidation_0-rmse:1.55221\n",
            "[28]\tvalidation_0-rmse:1.55174\n",
            "[29]\tvalidation_0-rmse:1.55131\n",
            "[30]\tvalidation_0-rmse:1.55089\n",
            "[31]\tvalidation_0-rmse:1.55055\n",
            "[32]\tvalidation_0-rmse:1.55018\n",
            "[33]\tvalidation_0-rmse:1.54987\n",
            "[34]\tvalidation_0-rmse:1.54940\n",
            "[35]\tvalidation_0-rmse:1.54908\n",
            "[36]\tvalidation_0-rmse:1.54862\n",
            "[37]\tvalidation_0-rmse:1.54846\n",
            "[38]\tvalidation_0-rmse:1.54835\n",
            "[39]\tvalidation_0-rmse:1.54816\n",
            "[40]\tvalidation_0-rmse:1.54787\n",
            "[41]\tvalidation_0-rmse:1.54770\n",
            "[42]\tvalidation_0-rmse:1.54767\n",
            "[43]\tvalidation_0-rmse:1.54763\n",
            "[44]\tvalidation_0-rmse:1.54759\n",
            "[45]\tvalidation_0-rmse:1.54750\n",
            "[46]\tvalidation_0-rmse:1.54740\n",
            "[47]\tvalidation_0-rmse:1.54735\n",
            "[48]\tvalidation_0-rmse:1.54703\n",
            "[49]\tvalidation_0-rmse:1.54705\n",
            "[50]\tvalidation_0-rmse:1.54694\n",
            "[51]\tvalidation_0-rmse:1.54686\n",
            "[52]\tvalidation_0-rmse:1.54677\n",
            "[53]\tvalidation_0-rmse:1.54658\n",
            "[54]\tvalidation_0-rmse:1.54661\n",
            "[55]\tvalidation_0-rmse:1.54650\n",
            "[56]\tvalidation_0-rmse:1.54654\n",
            "[57]\tvalidation_0-rmse:1.54650\n",
            "[58]\tvalidation_0-rmse:1.54650\n",
            "[59]\tvalidation_0-rmse:1.54644\n",
            "[60]\tvalidation_0-rmse:1.54634\n",
            "[61]\tvalidation_0-rmse:1.54633\n",
            "[62]\tvalidation_0-rmse:1.54635\n",
            "[63]\tvalidation_0-rmse:1.54634\n",
            "[64]\tvalidation_0-rmse:1.54634\n",
            "[65]\tvalidation_0-rmse:1.54631\n",
            "[66]\tvalidation_0-rmse:1.54623\n",
            "[67]\tvalidation_0-rmse:1.54626\n",
            "[68]\tvalidation_0-rmse:1.54614\n",
            "[69]\tvalidation_0-rmse:1.54614\n",
            "[70]\tvalidation_0-rmse:1.54614\n",
            "[71]\tvalidation_0-rmse:1.54616\n",
            "[72]\tvalidation_0-rmse:1.54611\n",
            "[73]\tvalidation_0-rmse:1.54605\n",
            "[74]\tvalidation_0-rmse:1.54629\n",
            "[75]\tvalidation_0-rmse:1.54630\n",
            "[76]\tvalidation_0-rmse:1.54631\n",
            "[77]\tvalidation_0-rmse:1.54644\n",
            "[78]\tvalidation_0-rmse:1.54638\n",
            "[79]\tvalidation_0-rmse:1.54638\n",
            "[80]\tvalidation_0-rmse:1.54619\n",
            "[81]\tvalidation_0-rmse:1.54619\n",
            "[82]\tvalidation_0-rmse:1.54616\n",
            "[83]\tvalidation_0-rmse:1.54616\n",
            "[84]\tvalidation_0-rmse:1.54614\n",
            "[85]\tvalidation_0-rmse:1.54616\n",
            "[86]\tvalidation_0-rmse:1.54619\n",
            "[87]\tvalidation_0-rmse:1.54623\n",
            "[88]\tvalidation_0-rmse:1.54600\n",
            "[89]\tvalidation_0-rmse:1.54603\n",
            "[90]\tvalidation_0-rmse:1.54622\n",
            "[91]\tvalidation_0-rmse:1.54625\n",
            "[92]\tvalidation_0-rmse:1.54618\n",
            "[93]\tvalidation_0-rmse:1.54625\n",
            "[94]\tvalidation_0-rmse:1.54629\n",
            "[95]\tvalidation_0-rmse:1.54635\n",
            "[96]\tvalidation_0-rmse:1.54634\n",
            "[97]\tvalidation_0-rmse:1.54637\n",
            "[98]\tvalidation_0-rmse:1.54609\n",
            "[99]\tvalidation_0-rmse:1.54613\n",
            "[XGBoost GPU] Fold 2 - RMSE: 1.5461\n",
            "[0]\tvalidation_0-rmse:1.94638\n",
            "[1]\tvalidation_0-rmse:1.83601\n",
            "[2]\tvalidation_0-rmse:1.74124\n",
            "[3]\tvalidation_0-rmse:1.66043\n",
            "[4]\tvalidation_0-rmse:1.59251\n",
            "[5]\tvalidation_0-rmse:1.53520\n",
            "[6]\tvalidation_0-rmse:1.48701\n",
            "[7]\tvalidation_0-rmse:1.44673\n",
            "[8]\tvalidation_0-rmse:1.41298\n",
            "[9]\tvalidation_0-rmse:1.38527\n",
            "[10]\tvalidation_0-rmse:1.36241\n",
            "[11]\tvalidation_0-rmse:1.34362\n",
            "[12]\tvalidation_0-rmse:1.32823\n",
            "[13]\tvalidation_0-rmse:1.31565\n",
            "[14]\tvalidation_0-rmse:1.30533\n",
            "[15]\tvalidation_0-rmse:1.29671\n",
            "[16]\tvalidation_0-rmse:1.28973\n",
            "[17]\tvalidation_0-rmse:1.28395\n",
            "[18]\tvalidation_0-rmse:1.27927\n",
            "[19]\tvalidation_0-rmse:1.27554\n",
            "[20]\tvalidation_0-rmse:1.27217\n",
            "[21]\tvalidation_0-rmse:1.26943\n",
            "[22]\tvalidation_0-rmse:1.26721\n",
            "[23]\tvalidation_0-rmse:1.26553\n",
            "[24]\tvalidation_0-rmse:1.26394\n",
            "[25]\tvalidation_0-rmse:1.26247\n",
            "[26]\tvalidation_0-rmse:1.26131\n",
            "[27]\tvalidation_0-rmse:1.26030\n",
            "[28]\tvalidation_0-rmse:1.25961\n",
            "[29]\tvalidation_0-rmse:1.25889\n",
            "[30]\tvalidation_0-rmse:1.25824\n",
            "[31]\tvalidation_0-rmse:1.25763\n",
            "[32]\tvalidation_0-rmse:1.25704\n",
            "[33]\tvalidation_0-rmse:1.25658\n",
            "[34]\tvalidation_0-rmse:1.25620\n",
            "[35]\tvalidation_0-rmse:1.25575\n",
            "[36]\tvalidation_0-rmse:1.25552\n",
            "[37]\tvalidation_0-rmse:1.25512\n",
            "[38]\tvalidation_0-rmse:1.25474\n",
            "[39]\tvalidation_0-rmse:1.25433\n",
            "[40]\tvalidation_0-rmse:1.25411\n",
            "[41]\tvalidation_0-rmse:1.25382\n",
            "[42]\tvalidation_0-rmse:1.25349\n",
            "[43]\tvalidation_0-rmse:1.25328\n",
            "[44]\tvalidation_0-rmse:1.25311\n",
            "[45]\tvalidation_0-rmse:1.25284\n",
            "[46]\tvalidation_0-rmse:1.25261\n",
            "[47]\tvalidation_0-rmse:1.25244\n",
            "[48]\tvalidation_0-rmse:1.25224\n",
            "[49]\tvalidation_0-rmse:1.25192\n",
            "[50]\tvalidation_0-rmse:1.25190\n",
            "[51]\tvalidation_0-rmse:1.25181\n",
            "[52]\tvalidation_0-rmse:1.25175\n",
            "[53]\tvalidation_0-rmse:1.25152\n",
            "[54]\tvalidation_0-rmse:1.25142\n",
            "[55]\tvalidation_0-rmse:1.25139\n",
            "[56]\tvalidation_0-rmse:1.25133\n",
            "[57]\tvalidation_0-rmse:1.25123\n",
            "[58]\tvalidation_0-rmse:1.25122\n",
            "[59]\tvalidation_0-rmse:1.25119\n",
            "[60]\tvalidation_0-rmse:1.25117\n",
            "[61]\tvalidation_0-rmse:1.25115\n",
            "[62]\tvalidation_0-rmse:1.25113\n",
            "[63]\tvalidation_0-rmse:1.25112\n",
            "[64]\tvalidation_0-rmse:1.25109\n",
            "[65]\tvalidation_0-rmse:1.25108\n",
            "[66]\tvalidation_0-rmse:1.25106\n",
            "[67]\tvalidation_0-rmse:1.25105\n",
            "[68]\tvalidation_0-rmse:1.25102\n",
            "[69]\tvalidation_0-rmse:1.25098\n",
            "[70]\tvalidation_0-rmse:1.25095\n",
            "[71]\tvalidation_0-rmse:1.25094\n",
            "[72]\tvalidation_0-rmse:1.25092\n",
            "[73]\tvalidation_0-rmse:1.25093\n",
            "[74]\tvalidation_0-rmse:1.25089\n",
            "[75]\tvalidation_0-rmse:1.25081\n",
            "[76]\tvalidation_0-rmse:1.25068\n",
            "[77]\tvalidation_0-rmse:1.25065\n",
            "[78]\tvalidation_0-rmse:1.25056\n",
            "[79]\tvalidation_0-rmse:1.25057\n",
            "[80]\tvalidation_0-rmse:1.25055\n",
            "[81]\tvalidation_0-rmse:1.25051\n",
            "[82]\tvalidation_0-rmse:1.25026\n",
            "[83]\tvalidation_0-rmse:1.25024\n",
            "[84]\tvalidation_0-rmse:1.25023\n",
            "[85]\tvalidation_0-rmse:1.25007\n",
            "[86]\tvalidation_0-rmse:1.24995\n",
            "[87]\tvalidation_0-rmse:1.24986\n",
            "[88]\tvalidation_0-rmse:1.24981\n",
            "[89]\tvalidation_0-rmse:1.24979\n",
            "[90]\tvalidation_0-rmse:1.24969\n",
            "[91]\tvalidation_0-rmse:1.24956\n",
            "[92]\tvalidation_0-rmse:1.24955\n",
            "[93]\tvalidation_0-rmse:1.24951\n",
            "[94]\tvalidation_0-rmse:1.24949\n",
            "[95]\tvalidation_0-rmse:1.24942\n",
            "[96]\tvalidation_0-rmse:1.24938\n",
            "[97]\tvalidation_0-rmse:1.24930\n",
            "[98]\tvalidation_0-rmse:1.24920\n",
            "[99]\tvalidation_0-rmse:1.24899\n",
            "[XGBoost GPU] Fold 3 - RMSE: 1.2490\n"
          ]
        }
      ],
      "source": [
        "xgb_models = []\n",
        "\n",
        "for fold in folds:\n",
        "    model = xgb.XGBRegressor(\n",
        "        n_estimators=100,\n",
        "        max_depth=8,\n",
        "        learning_rate=0.1,\n",
        "        objective='reg:squarederror',\n",
        "        device='cuda',          # ⚡ Ativa GPU (modo moderno)\n",
        "        tree_method='hist',\n",
        "        random_state=42\n",
        "    )\n",
        "\n",
        "    model.fit(\n",
        "        fold['X_train'],\n",
        "        fold['y_train'],\n",
        "        eval_set=[(fold['X_test'], fold['y_test'])]\n",
        "    )\n",
        "\n",
        "    y_pred = model.predict(fold['X_test'])\n",
        "    rmse = np.sqrt(mean_squared_error(fold['y_test'], y_pred))\n",
        "\n",
        "    xgb_models.append(model)\n",
        "    print(f\"[XGBoost GPU] Fold {fold['fold']} - RMSE: {rmse:.4f}\")"
      ]
    },
    {
      "cell_type": "markdown",
      "source": [
        "### Comparação dos RMSE"
      ],
      "metadata": {
        "id": "8gwum_eUakxh"
      },
      "id": "8gwum_eUakxh"
    },
    {
      "cell_type": "code",
      "source": [
        "# Dados dos RMSEs obtidos\n",
        "data = {\n",
        "    'Modelo': ['Linear Regression', 'Linear Regression', 'Linear Regression',\n",
        "               'LightGBM GPU', 'LightGBM GPU', 'LightGBM GPU',\n",
        "               'XGBoost GPU', 'XGBoost GPU', 'XGBoost GPU'],\n",
        "    'Fold': [1, 2, 3, 1, 2, 3, 1, 2, 3],\n",
        "    'RMSE': [3.0052, 1.5783, 1.2901,\n",
        "             2.9017, 1.5518, 1.2616,\n",
        "             3.4122, 1.5461, 1.2490]\n",
        "}\n",
        "\n",
        "# Cria o DataFrame\n",
        "df = pd.DataFrame(data)\n",
        "\n",
        "# Gráfico de linhas comparando RMSEs por fold\n",
        "plt.figure(figsize=(8, 5))\n",
        "for model in df['Modelo'].unique():\n",
        "    subset = df[df['Modelo'] == model]\n",
        "    plt.plot(subset['Fold'], subset['RMSE'], marker='o', label=model)\n",
        "\n",
        "plt.title('Comparação de RMSE por Fold e Modelo')\n",
        "plt.xlabel('Fold')\n",
        "plt.ylabel('RMSE')\n",
        "plt.legend()\n",
        "plt.grid(True)\n",
        "plt.tight_layout()\n",
        "plt.show()"
      ],
      "metadata": {
        "id": "uBsxpEGvXP-V",
        "colab": {
          "base_uri": "https://localhost:8080/",
          "height": 0
        },
        "outputId": "77144469-fe4a-4004-c2a5-0c8b9258022e"
      },
      "id": "uBsxpEGvXP-V",
      "execution_count": 23,
      "outputs": [
        {
          "output_type": "display_data",
          "data": {
            "text/plain": [
              "<Figure size 800x500 with 1 Axes>"
            ],
            "image/png": "[encoded data removed]"
          },
          "metadata": {}
        }
      ]
    },
    {
      "cell_type": "code",
      "source": [
        "# RMSEs por modelo e fold (valores que você mediu)\n",
        "data = {\n",
        "    'Modelo': ['Linear Regression', 'LightGBM GPU', 'XGBoost GPU'],\n",
        "    'Fold 1': [3.0052, 2.9017, 3.4122],\n",
        "    'Fold 2': [1.5783, 1.5518, 1.5461],\n",
        "    'Fold 3': [1.2901, 1.2616, 1.2490]\n",
        "}\n",
        "\n",
        "df = pd.DataFrame(data)\n",
        "\n",
        "# Calcular média e desvio padrão\n",
        "df['Média'] = df[['Fold 1', 'Fold 2', 'Fold 3']].mean(axis=1)\n",
        "df['Desvio Padrão'] = df[['Fold 1', 'Fold 2', 'Fold 3']].std(axis=1)\n",
        "\n",
        "print(\"Resumo de desempenho por modelo:\\n\")\n",
        "print(df[['Modelo', 'Média', 'Desvio Padrão']])\n",
        "\n",
        "# Gráfico de médias com desvio padrão\n",
        "plt.figure(figsize=(7,5))\n",
        "plt.bar(df['Modelo'], df['Média'], yerr=df['Desvio Padrão'], capsize=6, color=['gold', 'skyblue', 'lightcoral'])\n",
        "plt.title('Média e Desvio Padrão do RMSE por Modelo')\n",
        "plt.ylabel('RMSE Médio (± Desvio)')\n",
        "plt.grid(True, axis='y', linestyle='--', alpha=0.6)\n",
        "plt.tight_layout()\n",
        "plt.show()"
      ],
      "metadata": {
        "id": "4HgumvZCfJn8",
        "colab": {
          "base_uri": "https://localhost:8080/",
          "height": 0
        },
        "outputId": "191bf250-d073-4efd-a687-1875a2d3be5b"
      },
      "id": "4HgumvZCfJn8",
      "execution_count": 24,
      "outputs": [
        {
          "output_type": "stream",
          "name": "stdout",
          "text": [
            "Resumo de desempenho por modelo:\n",
            "\n",
            "              Modelo     Média  Desvio Padrão\n",
            "0  Linear Regression  1.957867       0.918393\n",
            "1       LightGBM GPU  1.905033       0.875250\n",
            "2        XGBoost GPU  2.069100       1.172606\n"
          ]
        },
        {
          "output_type": "display_data",
          "data": {
            "text/plain": [
              "<Figure size 700x500 with 1 Axes>"
            ],
            "image/png": "[encoded data removed]"
          },
          "metadata": {}
        }
      ]
    },
    {
      "cell_type": "markdown",
      "source": [
        "#### Por que o Fold 1 tá com RMSE mais alto?\n",
        "\n",
        "##### Como o treino do Fold 1 usa os primeiros dados (0 → 14612333) e o teste vem logo depois, ele tá prevendo um período futuro usando apenas o início da série.\n",
        "##### Já nos folds seguintes, o modelo treina com mais dados e períodos mais recentes — então ele aprende melhor o comportamento mais atual, o que explica o RMSE bem menor nos folds 2 e 3."
      ],
      "metadata": {
        "id": "d0S7grgLek0O"
      },
      "id": "d0S7grgLek0O"
    },
    {
      "cell_type": "markdown",
      "source": [
        "## O **LightGBM GPU** teve o **menor RMSE médio**, ou seja, foi o modelo mais preciso em geral.\n",
        "* Ele também manteve um **desvio padrão menor** que o XGBoost — isso significa que o LightGBM foi **mais estável** entre os folds (menos sensível a mudanças no período).\n",
        "* O **XGBoost GPU** teve desempenho parecido, mas um pouco mais volátil"
      ],
      "metadata": {
        "id": "t09bdADyfkZ-"
      },
      "id": "t09bdADyfkZ-"
    },
    {
      "cell_type": "markdown",
      "source": [
        "## Tuning dos hiperparámetros usando `Optuna`"
      ],
      "metadata": {
        "id": "_lwMtwWf1cb0"
      },
      "id": "_lwMtwWf1cb0"
    },
    {
      "cell_type": "code",
      "source": [
        "# Função de avaliação (objeto de otimização)\n",
        "def objective(trial):\n",
        "\n",
        "    # Hiperparâmetros que o Optuna vai testar\n",
        "    params = {\n",
        "        \"objective\": \"regression\",\n",
        "        \"metric\": \"rmse\",\n",
        "        \"verbosity\": -1,\n",
        "        \"boosting_type\": \"gbdt\",\n",
        "        \"device_type\": \"gpu\",     # Usa GPU\n",
        "        \"gpu_use_dp\": False,      # float32 = mais rápido\n",
        "        \"learning_rate\": trial.suggest_float(\"learning_rate\", 0.01, 0.3, log=True),\n",
        "        \"num_leaves\": trial.suggest_int(\"num_leaves\", 20, 200),\n",
        "        \"max_depth\": trial.suggest_int(\"max_depth\", 3, 15),\n",
        "        \"min_data_in_leaf\": trial.suggest_int(\"min_data_in_leaf\", 10, 200),\n",
        "        \"feature_fraction\": trial.suggest_float(\"feature_fraction\", 0.6, 1.0),\n",
        "        \"bagging_fraction\": trial.suggest_float(\"bagging_fraction\", 0.6, 1.0),\n",
        "        \"bagging_freq\": trial.suggest_int(\"bagging_freq\", 1, 10),\n",
        "        \"lambda_l1\": trial.suggest_float(\"lambda_l1\", 0.0, 10.0),\n",
        "        \"lambda_l2\": trial.suggest_float(\"lambda_l2\", 0.0, 10.0),\n",
        "    }\n",
        "\n",
        "    rmses = []\n",
        "\n",
        "    # Validação cruzada temporal (3 folds)\n",
        "    for fold in folds:\n",
        "        train_data = lgb.Dataset(fold['X_train'], label=fold['y_train'])\n",
        "        valid_data = lgb.Dataset(fold['X_test'], label=fold['y_test'], reference=train_data)\n",
        "\n",
        "        model = lgb.train(\n",
        "            params,\n",
        "            train_data,\n",
        "            valid_sets=[valid_data],\n",
        "            num_boost_round=1000,\n",
        "            callbacks=[early_stopping(stopping_rounds=50, verbose=False)]\n",
        "        )\n",
        "\n",
        "        y_pred = model.predict(fold['X_test'])\n",
        "        rmse = np.sqrt(mean_squared_error(fold['y_test'], y_pred))\n",
        "        rmses.append(rmse)\n",
        "\n",
        "    # Retorna a média dos RMSEs (quanto menor, melhor)\n",
        "    return np.mean(rmses)"
      ],
      "metadata": {
        "id": "gKVlNSbYg1An"
      },
      "id": "gKVlNSbYg1An",
      "execution_count": 25,
      "outputs": []
    },
    {
      "cell_type": "code",
      "source": [
        "# Cria o estudo do Optuna\n",
        "study = optuna.create_study(direction=\"minimize\")\n",
        "study.optimize(objective, n_trials=25, show_progress_bar=True)\n",
        "\n",
        "print(\"Melhor RMSE médio:\", study.best_value)\n",
        "print(\"Melhores parâmetros encontrados:\")\n",
        "for k, v in study.best_params.items():\n",
        "    print(f\"  {k}: {v}\")"
      ],
      "metadata": {
        "id": "PSUHWSR6z13Q",
        "colab": {
          "base_uri": "https://localhost:8080/",
          "height": 730,
          "referenced_widgets": [
            "9f5b768faae84d388aeaddbec5a15d5b",
            "c792c6e106984df9affb365edfa59210",
            "bd9291ec693a46aea545ada4182deafa",
            "2c43e970d83c4666a5c0af5597627870",
            "20e2fb36099746fc84e6f58af1ff8531",
            "e71f7d37d7674e1d861b67dff65b8f9e",
            "f54762f993f149f982e7978daf5dde99",
            "18c29540add04273abaf19c906cfd6d9",
            "0d0c80d0963d44d1a93ab2a21b62d310",
            "5a439c5524bb40b2a6d3881aeed32677",
            "a2c4cd604e714aaca7b18f461920142a"
          ]
        },
        "outputId": "7bbb7664-de39-4414-868c-d23573c2407e"
      },
      "id": "PSUHWSR6z13Q",
      "execution_count": 26,
      "outputs": [
        {
          "output_type": "stream",
          "name": "stderr",
          "text": [
            "[I 2025-10-24 19:26:42,995] A new study created in memory with name: no-name-7f2a33ec-f079-4178-90f6-5e1c39cb965c\n"
          ]
        },
        {
          "output_type": "display_data",
          "data": {
            "text/plain": [
              "  0%|          | 0/25 [00:00<?, ?it/s]"
            ],
            "application/vnd.jupyter.widget-view+json": {
              "version_major": 2,
              "version_minor": 0,
              "model_id": "9f5b768faae84d388aeaddbec5a15d5b"
            }
          },
          "metadata": {}
        },
        {
          "output_type": "stream",
          "name": "stdout",
          "text": [
            "[I 2025-10-24 19:51:52,097] Trial 0 finished with value: 1.8935230564897294 and parameters: {'learning_rate': 0.13090869299518415, 'num_leaves': 30, 'max_depth': 7, 'min_data_in_leaf': 165, 'feature_fraction': 0.825356496444401, 'bagging_fraction': 0.9729565596900845, 'bagging_freq': 5, 'lambda_l1': 7.741204224121754, 'lambda_l2': 5.784147465308881}. Best is trial 0 with value: 1.8935230564897294.\n",
            "[I 2025-10-24 20:37:12,406] Trial 1 finished with value: 1.897152917061329 and parameters: {'learning_rate': 0.01851419288363873, 'num_leaves': 107, 'max_depth': 6, 'min_data_in_leaf': 93, 'feature_fraction': 0.6788818854137901, 'bagging_fraction': 0.7818645916834444, 'bagging_freq': 5, 'lambda_l1': 0.44267415373887453, 'lambda_l2': 3.595473673271142}. Best is trial 0 with value: 1.8935230564897294.\n",
            "[I 2025-10-24 21:13:50,206] Trial 2 finished with value: 1.8906034135614354 and parameters: {'learning_rate': 0.027182062341501608, 'num_leaves': 114, 'max_depth': 15, 'min_data_in_leaf': 140, 'feature_fraction': 0.7453310146932806, 'bagging_fraction': 0.7858495822608839, 'bagging_freq': 8, 'lambda_l1': 2.5270132745254603, 'lambda_l2': 6.884481231297358}. Best is trial 2 with value: 1.8906034135614354.\n",
            "[I 2025-10-24 22:11:31,142] Trial 3 finished with value: 1.8911727114019659 and parameters: {'learning_rate': 0.01089915472357952, 'num_leaves': 191, 'max_depth': 9, 'min_data_in_leaf': 163, 'feature_fraction': 0.9016598789773502, 'bagging_fraction': 0.7297481201315387, 'bagging_freq': 3, 'lambda_l1': 3.087556690956431, 'lambda_l2': 7.603858810599636}. Best is trial 2 with value: 1.8906034135614354.\n",
            "[I 2025-10-24 22:38:37,557] Trial 4 finished with value: 1.8929720276443611 and parameters: {'learning_rate': 0.04570393624641181, 'num_leaves': 108, 'max_depth': 11, 'min_data_in_leaf': 113, 'feature_fraction': 0.6796992134377834, 'bagging_fraction': 0.6827684450175464, 'bagging_freq': 7, 'lambda_l1': 9.17742854842036, 'lambda_l2': 0.12358321341605527}. Best is trial 2 with value: 1.8906034135614354.\n",
            "[I 2025-10-24 22:49:25,165] Trial 5 finished with value: 1.8993514375144918 and parameters: {'learning_rate': 0.19177474102082875, 'num_leaves': 170, 'max_depth': 13, 'min_data_in_leaf': 23, 'feature_fraction': 0.9003787369223893, 'bagging_fraction': 0.6011226848203762, 'bagging_freq': 2, 'lambda_l1': 1.4173876135755559, 'lambda_l2': 6.991795581935241}. Best is trial 2 with value: 1.8906034135614354.\n",
            "[I 2025-10-24 23:22:08,370] Trial 6 finished with value: 1.8944061172255307 and parameters: {'learning_rate': 0.03709812209873685, 'num_leaves': 111, 'max_depth': 6, 'min_data_in_leaf': 113, 'feature_fraction': 0.8689633838430322, 'bagging_fraction': 0.8577847001667236, 'bagging_freq': 10, 'lambda_l1': 2.8927997957249216, 'lambda_l2': 1.4661999172290263}. Best is trial 2 with value: 1.8906034135614354.\n",
            "[I 2025-10-24 23:36:59,735] Trial 7 finished with value: 1.8921500060400414 and parameters: {'learning_rate': 0.09436526560522383, 'num_leaves': 82, 'max_depth': 12, 'min_data_in_leaf': 60, 'feature_fraction': 0.997302720484393, 'bagging_fraction': 0.9704204157389569, 'bagging_freq': 6, 'lambda_l1': 9.49346039230808, 'lambda_l2': 8.470768967922881}. Best is trial 2 with value: 1.8906034135614354.\n",
            "[I 2025-10-25 00:08:37,092] Trial 8 finished with value: 1.903478930643238 and parameters: {'learning_rate': 0.021231417853163997, 'num_leaves': 119, 'max_depth': 5, 'min_data_in_leaf': 119, 'feature_fraction': 0.9558494354372495, 'bagging_fraction': 0.6002303103632323, 'bagging_freq': 7, 'lambda_l1': 5.566267853837321, 'lambda_l2': 0.0008713788603365025}. Best is trial 2 with value: 1.8906034135614354.\n",
            "[I 2025-10-25 00:40:32,064] Trial 9 finished with value: 1.892192571580227 and parameters: {'learning_rate': 0.05586632169959775, 'num_leaves': 104, 'max_depth': 8, 'min_data_in_leaf': 152, 'feature_fraction': 0.7289037899139745, 'bagging_fraction': 0.7833593726726444, 'bagging_freq': 4, 'lambda_l1': 8.431531542312666, 'lambda_l2': 3.1299101328420553}. Best is trial 2 with value: 1.8906034135614354.\n",
            "[I 2025-10-25 01:22:14,715] Trial 10 finished with value: 1.8888581292586368 and parameters: {'learning_rate': 0.024155832600222457, 'num_leaves': 153, 'max_depth': 15, 'min_data_in_leaf': 200, 'feature_fraction': 0.755369042557214, 'bagging_fraction': 0.867566003049207, 'bagging_freq': 10, 'lambda_l1': 5.510580960616224, 'lambda_l2': 5.419430962349016}. Best is trial 10 with value: 1.8888581292586368.\n",
            "[I 2025-10-25 02:05:09,464] Trial 11 finished with value: 1.8885545025102937 and parameters: {'learning_rate': 0.023191448794202336, 'num_leaves': 152, 'max_depth': 15, 'min_data_in_leaf': 194, 'feature_fraction': 0.7740673086383222, 'bagging_fraction': 0.8730788072667973, 'bagging_freq': 10, 'lambda_l1': 5.741974126926799, 'lambda_l2': 5.298145249301669}. Best is trial 11 with value: 1.8885545025102937.\n",
            "[I 2025-10-25 02:59:01,901] Trial 12 finished with value: 1.8914315021645711 and parameters: {'learning_rate': 0.010123622762439225, 'num_leaves': 152, 'max_depth': 15, 'min_data_in_leaf': 183, 'feature_fraction': 0.60939797289522, 'bagging_fraction': 0.8791607227134004, 'bagging_freq': 10, 'lambda_l1': 5.575936418400389, 'lambda_l2': 4.590891701785822}. Best is trial 11 with value: 1.8885545025102937.\n",
            "[I 2025-10-25 03:29:16,559] Trial 13 finished with value: 1.9142548086188336 and parameters: {'learning_rate': 0.016764238565268867, 'num_leaves': 149, 'max_depth': 3, 'min_data_in_leaf': 199, 'feature_fraction': 0.7792014025729057, 'bagging_fraction': 0.8840061947087359, 'bagging_freq': 9, 'lambda_l1': 6.666446235915702, 'lambda_l2': 9.778448972894685}. Best is trial 11 with value: 1.8885545025102937.\n",
            "[I 2025-10-25 03:47:12,923] Trial 14 finished with value: 1.8902694226890986 and parameters: {'learning_rate': 0.07457185841198563, 'num_leaves': 199, 'max_depth': 13, 'min_data_in_leaf': 194, 'feature_fraction': 0.8221535090981721, 'bagging_fraction': 0.920053631041651, 'bagging_freq': 9, 'lambda_l1': 4.263084080377481, 'lambda_l2': 5.494882873199749}. Best is trial 11 with value: 1.8885545025102937.\n",
            "[I 2025-10-25 04:24:24,689] Trial 15 finished with value: 1.8929007528792596 and parameters: {'learning_rate': 0.03224229128596234, 'num_leaves': 149, 'max_depth': 10, 'min_data_in_leaf': 78, 'feature_fraction': 0.7166463800598335, 'bagging_fraction': 0.8351752492788694, 'bagging_freq': 10, 'lambda_l1': 6.779141303923849, 'lambda_l2': 3.8903927787654995}. Best is trial 11 with value: 1.8885545025102937.\n",
            "[I 2025-10-25 04:33:57,370] Trial 16 finished with value: 1.9020330514844341 and parameters: {'learning_rate': 0.2862097533035272, 'num_leaves': 172, 'max_depth': 15, 'min_data_in_leaf': 176, 'feature_fraction': 0.7802512437119236, 'bagging_fraction': 0.927048473040699, 'bagging_freq': 8, 'lambda_l1': 4.393650617451044, 'lambda_l2': 2.092855625126941}. Best is trial 11 with value: 1.8885545025102937.\n",
            "[I 2025-10-25 05:10:14,135] Trial 17 finished with value: 1.8930550907876338 and parameters: {'learning_rate': 0.015079433213893675, 'num_leaves': 68, 'max_depth': 13, 'min_data_in_leaf': 141, 'feature_fraction': 0.6122275487478495, 'bagging_fraction': 0.8245567174379386, 'bagging_freq': 1, 'lambda_l1': 6.708436424961339, 'lambda_l2': 5.776919266485588}. Best is trial 11 with value: 1.8885545025102937.\n",
            "[I 2025-10-25 05:45:37,526] Trial 18 finished with value: 1.8932771172103735 and parameters: {'learning_rate': 0.024730638673856102, 'num_leaves': 133, 'max_depth': 14, 'min_data_in_leaf': 10, 'feature_fraction': 0.6730708924635783, 'bagging_fraction': 0.9221577427683514, 'bagging_freq': 8, 'lambda_l1': 4.747040977246112, 'lambda_l2': 4.607773546870272}. Best is trial 11 with value: 1.8885545025102937.\n",
            "[I 2025-10-25 06:06:02,308] Trial 19 finished with value: 1.8916150585524054 and parameters: {'learning_rate': 0.04866327865531174, 'num_leaves': 177, 'max_depth': 10, 'min_data_in_leaf': 197, 'feature_fraction': 0.8587472694482677, 'bagging_fraction': 0.7159940758995035, 'bagging_freq': 9, 'lambda_l1': 3.691017305500184, 'lambda_l2': 8.598790859130808}. Best is trial 11 with value: 1.8885545025102937.\n",
            "[I 2025-10-25 06:55:19,796] Trial 20 finished with value: 1.890578963250821 and parameters: {'learning_rate': 0.014638267813343583, 'num_leaves': 131, 'max_depth': 11, 'min_data_in_leaf': 133, 'feature_fraction': 0.7479877309527312, 'bagging_fraction': 0.9944494936458794, 'bagging_freq': 7, 'lambda_l1': 5.588035804193821, 'lambda_l2': 6.568333207299014}. Best is trial 11 with value: 1.8885545025102937.\n",
            "[I 2025-10-25 07:14:12,168] Trial 21 finished with value: 1.8898928432180044 and parameters: {'learning_rate': 0.08020325202739227, 'num_leaves': 200, 'max_depth': 13, 'min_data_in_leaf': 182, 'feature_fraction': 0.8134812512914471, 'bagging_fraction': 0.922122707890163, 'bagging_freq': 9, 'lambda_l1': 4.131680319757949, 'lambda_l2': 5.469909530328182}. Best is trial 11 with value: 1.8885545025102937.\n",
            "[I 2025-10-25 07:30:18,379] Trial 22 finished with value: 1.88982135185189 and parameters: {'learning_rate': 0.07523087073497126, 'num_leaves': 186, 'max_depth': 14, 'min_data_in_leaf': 179, 'feature_fraction': 0.8083007482481586, 'bagging_fraction': 0.8901769859969985, 'bagging_freq': 10, 'lambda_l1': 6.100262777193123, 'lambda_l2': 4.8106156568448215}. Best is trial 11 with value: 1.8885545025102937.\n",
            "[I 2025-10-25 08:07:18,160] Trial 23 finished with value: 1.8888239389793477 and parameters: {'learning_rate': 0.0353234743538579, 'num_leaves': 161, 'max_depth': 14, 'min_data_in_leaf': 165, 'feature_fraction': 0.7795064797597326, 'bagging_fraction': 0.8702270692744137, 'bagging_freq': 10, 'lambda_l1': 6.292057390772594, 'lambda_l2': 4.342723764610631}. Best is trial 11 with value: 1.8885545025102937.\n",
            "[I 2025-10-25 08:39:38,265] Trial 24 finished with value: 1.8895484547536006 and parameters: {'learning_rate': 0.0357319445769223, 'num_leaves': 159, 'max_depth': 14, 'min_data_in_leaf': 161, 'feature_fraction': 0.7681932911503813, 'bagging_fraction': 0.8385070543974625, 'bagging_freq': 10, 'lambda_l1': 7.802798512249419, 'lambda_l2': 2.902438442274243}. Best is trial 11 with value: 1.8885545025102937.\n",
            "Melhor RMSE médio: 1.8885545025102937\n",
            "Melhores parâmetros encontrados:\n",
            "  learning_rate: 0.023191448794202336\n",
            "  num_leaves: 152\n",
            "  max_depth: 15\n",
            "  min_data_in_leaf: 194\n",
            "  feature_fraction: 0.7740673086383222\n",
            "  bagging_fraction: 0.8730788072667973\n",
            "  bagging_freq: 10\n",
            "  lambda_l1: 5.741974126926799\n",
            "  lambda_l2: 5.298145249301669\n"
          ]
        }
      ]
    },
    {
      "cell_type": "markdown",
      "source": [
        "## Salvar modelo"
      ],
      "metadata": {
        "id": "L1XcD-dY2_zH"
      },
      "id": "L1XcD-dY2_zH"
    },
    {
      "cell_type": "code",
      "source": [
        "# Pega os melhores parâmetros do Optuna\n",
        "best_params = study.best_params\n",
        "best_params.update({\n",
        "    \"objective\": \"regression\",\n",
        "    \"metric\": \"rmse\",\n",
        "    \"device_type\": \"gpu\",\n",
        "    \"verbosity\": -1\n",
        "})\n",
        "\n",
        "# Cria o dataset completo (todo o X e y)\n",
        "train_all = lgb.Dataset(X, label=y)\n",
        "\n",
        "# Treina o modelo final\n",
        "final_model = lgb.train(best_params, train_all, num_boost_round=1000)"
      ],
      "metadata": {
        "id": "CNinvxx9z-DI"
      },
      "id": "CNinvxx9z-DI",
      "execution_count": 27,
      "outputs": []
    },
    {
      "cell_type": "code",
      "source": [
        "path = '/content/drive/MyDrive/dados_colab/lightgbm_folds_tunado_gpu.joblib'\n",
        "\n",
        "# Salva o modelo treinado\n",
        "joblib.dump(final_model, path)"
      ],
      "metadata": {
        "id": "ktlegtUG5Yr6",
        "colab": {
          "base_uri": "https://localhost:8080/"
        },
        "outputId": "529efdfa-2be6-44e9-8127-511801018ea7"
      },
      "id": "ktlegtUG5Yr6",
      "execution_count": 29,
      "outputs": [
        {
          "output_type": "execute_result",
          "data": {
            "text/plain": [
              "['/content/drive/MyDrive/dados_colab/lightgbm_folds_tunado_gpu.joblib']"
            ]
          },
          "metadata": {},
          "execution_count": 29
        }
      ]
    },
    {
      "cell_type": "code",
      "source": [],
      "metadata": {
        "id": "YZ1-vkLNt8Y7"
      },
      "id": "YZ1-vkLNt8Y7",
      "execution_count": null,
      "outputs": []
    }
  ],
  "metadata": {
    "accelerator": "GPU",
    "colab": {
      "gpuType": "A100",
      "machine_shape": "hm",
      "provenance": [],
      "collapsed_sections": [
        "ubW9kNrjU93w",
        "7d5354bb-4cc6-47dc-a9fc-4f3b0378bd05",
        "135889ef-dc61-4642-8a11-9015415f8623",
        "fa9f0836-ab2f-41d3-94a6-fc42cba39972",
        "3e3a2bef-68d6-4358-9684-ae0fc002113c",
        "69de89e5-6a4a-4ff0-bd99-5f63003cebd3",
        "0ad0bbc0-d555-4bba-8d96-63af54440e13",
        "c688ad5b-2196-4873-bb88-1b1006efecd6",
        "8gwum_eUakxh"
      ]
    },
    "kernelspec": {
      "display_name": "Python (Forecast Env)",
      "language": "python",
      "name": "forecast-env"
    },
    "language_info": {
      "codemirror_mode": {
        "name": "ipython",
        "version": 3
      },
      "file_extension": ".py",
      "mimetype": "text/x-python",
      "name": "python",
      "nbconvert_exporter": "python",
      "pygments_lexer": "ipython3",
      "version": "3.11.0"
    },
    "widgets": {
      "application/vnd.jupyter.widget-state+json": {
        "9f5b768faae84d388aeaddbec5a15d5b": {
          "model_module": "@jupyter-widgets/controls",
          "model_name": "HBoxModel",
          "model_module_version": "1.5.0",
          "state": {
            "_dom_classes": [],
            "_model_module": "@jupyter-widgets/controls",
            "_model_module_version": "1.5.0",
            "_model_name": "HBoxModel",
            "_view_count": null,
            "_view_module": "@jupyter-widgets/controls",
            "_view_module_version": "1.5.0",
            "_view_name": "HBoxView",
            "box_style": "",
            "children": [
              "IPY_MODEL_c792c6e106984df9affb365edfa59210",
              "IPY_MODEL_bd9291ec693a46aea545ada4182deafa",
              "IPY_MODEL_2c43e970d83c4666a5c0af5597627870"
            ],
            "layout": "IPY_MODEL_20e2fb36099746fc84e6f58af1ff8531"
          }
        },
        "c792c6e106984df9affb365edfa59210": {
          "model_module": "@jupyter-widgets/controls",
          "model_name": "HTMLModel",
          "model_module_version": "1.5.0",
          "state": {
            "_dom_classes": [],
            "_model_module": "@jupyter-widgets/controls",
            "_model_module_version": "1.5.0",
            "_model_name": "HTMLModel",
            "_view_count": null,
            "_view_module": "@jupyter-widgets/controls",
            "_view_module_version": "1.5.0",
            "_view_name": "HTMLView",
            "description": "",
            "description_tooltip": null,
            "layout": "IPY_MODEL_e71f7d37d7674e1d861b67dff65b8f9e",
            "placeholder": "​",
            "style": "IPY_MODEL_f54762f993f149f982e7978daf5dde99",
            "value": "Best trial: 11. Best value: 1.88855: 100%"
          }
        },
        "bd9291ec693a46aea545ada4182deafa": {
          "model_module": "@jupyter-widgets/controls",
          "model_name": "FloatProgressModel",
          "model_module_version": "1.5.0",
          "state": {
            "_dom_classes": [],
            "_model_module": "@jupyter-widgets/controls",
            "_model_module_version": "1.5.0",
            "_model_name": "FloatProgressModel",
            "_view_count": null,
            "_view_module": "@jupyter-widgets/controls",
            "_view_module_version": "1.5.0",
            "_view_name": "ProgressView",
            "bar_style": "success",
            "description": "",
            "description_tooltip": null,
            "layout": "IPY_MODEL_18c29540add04273abaf19c906cfd6d9",
            "max": 25,
            "min": 0,
            "orientation": "horizontal",
            "style": "IPY_MODEL_0d0c80d0963d44d1a93ab2a21b62d310",
            "value": 25
          }
        },
        "2c43e970d83c4666a5c0af5597627870": {
          "model_module": "@jupyter-widgets/controls",
          "model_name": "HTMLModel",
          "model_module_version": "1.5.0",
          "state": {
            "_dom_classes": [],
            "_model_module": "@jupyter-widgets/controls",
            "_model_module_version": "1.5.0",
            "_model_name": "HTMLModel",
            "_view_count": null,
            "_view_module": "@jupyter-widgets/controls",
            "_view_module_version": "1.5.0",
            "_view_name": "HTMLView",
            "description": "",
            "description_tooltip": null,
            "layout": "IPY_MODEL_5a439c5524bb40b2a6d3881aeed32677",
            "placeholder": "​",
            "style": "IPY_MODEL_a2c4cd604e714aaca7b18f461920142a",
            "value": " 25/25 [13:12:55&lt;00:00, 1801.25s/it]"
          }
        },
        "20e2fb36099746fc84e6f58af1ff8531": {
          "model_module": "@jupyter-widgets/base",
          "model_name": "LayoutModel",
          "model_module_version": "1.2.0",
          "state": {
            "_model_module": "@jupyter-widgets/base",
            "_model_module_version": "1.2.0",
            "_model_name": "LayoutModel",
            "_view_count": null,
            "_view_module": "@jupyter-widgets/base",
            "_view_module_version": "1.2.0",
            "_view_name": "LayoutView",
            "align_content": null,
            "align_items": null,
            "align_self": null,
            "border": null,
            "bottom": null,
            "display": null,
            "flex": null,
            "flex_flow": null,
            "grid_area": null,
            "grid_auto_columns": null,
            "grid_auto_flow": null,
            "grid_auto_rows": null,
            "grid_column": null,
            "grid_gap": null,
            "grid_row": null,
            "grid_template_areas": null,
            "grid_template_columns": null,
            "grid_template_rows": null,
            "height": null,
            "justify_content": null,
            "justify_items": null,
            "left": null,
            "margin": null,
            "max_height": null,
            "max_width": null,
            "min_height": null,
            "min_width": null,
            "object_fit": null,
            "object_position": null,
            "order": null,
            "overflow": null,
            "overflow_x": null,
            "overflow_y": null,
            "padding": null,
            "right": null,
            "top": null,
            "visibility": null,
            "width": null
          }
        },
        "e71f7d37d7674e1d861b67dff65b8f9e": {
          "model_module": "@jupyter-widgets/base",
          "model_name": "LayoutModel",
          "model_module_version": "1.2.0",
          "state": {
            "_model_module": "@jupyter-widgets/base",
            "_model_module_version": "1.2.0",
            "_model_name": "LayoutModel",
            "_view_count": null,
            "_view_module": "@jupyter-widgets/base",
            "_view_module_version": "1.2.0",
            "_view_name": "LayoutView",
            "align_content": null,
            "align_items": null,
            "align_self": null,
            "border": null,
            "bottom": null,
            "display": null,
            "flex": null,
            "flex_flow": null,
            "grid_area": null,
            "grid_auto_columns": null,
            "grid_auto_flow": null,
            "grid_auto_rows": null,
            "grid_column": null,
            "grid_gap": null,
            "grid_row": null,
            "grid_template_areas": null,
            "grid_template_columns": null,
            "grid_template_rows": null,
            "height": null,
            "justify_content": null,
            "justify_items": null,
            "left": null,
            "margin": null,
            "max_height": null,
            "max_width": null,
            "min_height": null,
            "min_width": null,
            "object_fit": null,
            "object_position": null,
            "order": null,
            "overflow": null,
            "overflow_x": null,
            "overflow_y": null,
            "padding": null,
            "right": null,
            "top": null,
            "visibility": null,
            "width": null
          }
        },
        "f54762f993f149f982e7978daf5dde99": {
          "model_module": "@jupyter-widgets/controls",
          "model_name": "DescriptionStyleModel",
          "model_module_version": "1.5.0",
          "state": {
            "_model_module": "@jupyter-widgets/controls",
            "_model_module_version": "1.5.0",
            "_model_name": "DescriptionStyleModel",
            "_view_count": null,
            "_view_module": "@jupyter-widgets/base",
            "_view_module_version": "1.2.0",
            "_view_name": "StyleView",
            "description_width": ""
          }
        },
        "18c29540add04273abaf19c906cfd6d9": {
          "model_module": "@jupyter-widgets/base",
          "model_name": "LayoutModel",
          "model_module_version": "1.2.0",
          "state": {
            "_model_module": "@jupyter-widgets/base",
            "_model_module_version": "1.2.0",
            "_model_name": "LayoutModel",
            "_view_count": null,
            "_view_module": "@jupyter-widgets/base",
            "_view_module_version": "1.2.0",
            "_view_name": "LayoutView",
            "align_content": null,
            "align_items": null,
            "align_self": null,
            "border": null,
            "bottom": null,
            "display": null,
            "flex": null,
            "flex_flow": null,
            "grid_area": null,
            "grid_auto_columns": null,
            "grid_auto_flow": null,
            "grid_auto_rows": null,
            "grid_column": null,
            "grid_gap": null,
            "grid_row": null,
            "grid_template_areas": null,
            "grid_template_columns": null,
            "grid_template_rows": null,
            "height": null,
            "justify_content": null,
            "justify_items": null,
            "left": null,
            "margin": null,
            "max_height": null,
            "max_width": null,
            "min_height": null,
            "min_width": null,
            "object_fit": null,
            "object_position": null,
            "order": null,
            "overflow": null,
            "overflow_x": null,
            "overflow_y": null,
            "padding": null,
            "right": null,
            "top": null,
            "visibility": null,
            "width": null
          }
        },
        "0d0c80d0963d44d1a93ab2a21b62d310": {
          "model_module": "@jupyter-widgets/controls",
          "model_name": "ProgressStyleModel",
          "model_module_version": "1.5.0",
          "state": {
            "_model_module": "@jupyter-widgets/controls",
            "_model_module_version": "1.5.0",
            "_model_name": "ProgressStyleModel",
            "_view_count": null,
            "_view_module": "@jupyter-widgets/base",
            "_view_module_version": "1.2.0",
            "_view_name": "StyleView",
            "bar_color": null,
            "description_width": ""
          }
        },
        "5a439c5524bb40b2a6d3881aeed32677": {
          "model_module": "@jupyter-widgets/base",
          "model_name": "LayoutModel",
          "model_module_version": "1.2.0",
          "state": {
            "_model_module": "@jupyter-widgets/base",
            "_model_module_version": "1.2.0",
            "_model_name": "LayoutModel",
            "_view_count": null,
            "_view_module": "@jupyter-widgets/base",
            "_view_module_version": "1.2.0",
            "_view_name": "LayoutView",
            "align_content": null,
            "align_items": null,
            "align_self": null,
            "border": null,
            "bottom": null,
            "display": null,
            "flex": null,
            "flex_flow": null,
            "grid_area": null,
            "grid_auto_columns": null,
            "grid_auto_flow": null,
            "grid_auto_rows": null,
            "grid_column": null,
            "grid_gap": null,
            "grid_row": null,
            "grid_template_areas": null,
            "grid_template_columns": null,
            "grid_template_rows": null,
            "height": null,
            "justify_content": null,
            "justify_items": null,
            "left": null,
            "margin": null,
            "max_height": null,
            "max_width": null,
            "min_height": null,
            "min_width": null,
            "object_fit": null,
            "object_position": null,
            "order": null,
            "overflow": null,
            "overflow_x": null,
            "overflow_y": null,
            "padding": null,
            "right": null,
            "top": null,
            "visibility": null,
            "width": null
          }
        },
        "a2c4cd604e714aaca7b18f461920142a": {
          "model_module": "@jupyter-widgets/controls",
          "model_name": "DescriptionStyleModel",
          "model_module_version": "1.5.0",
          "state": {
            "_model_module": "@jupyter-widgets/controls",
            "_model_module_version": "1.5.0",
            "_model_name": "DescriptionStyleModel",
            "_view_count": null,
            "_view_module": "@jupyter-widgets/base",
            "_view_module_version": "1.2.0",
            "_view_name": "StyleView",
            "description_width": ""
          }
        }
      }
    }
  },
  "nbformat": 4,
  "nbformat_minor": 5
}